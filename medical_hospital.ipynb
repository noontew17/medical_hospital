{
 "cells": [
  {
   "cell_type": "markdown",
   "id": "eece93b6-d7f4-4673-83cf-86b47269258a",
   "metadata": {},
   "source": [
    "# The Mission Statement \n",
    "A MedTech company has 5 NHS hospitals registered and needs to give some insight to the board of directors and provide feedback to clinicians. "
   ]
  },
  {
   "cell_type": "markdown",
   "id": "e2de6843-d514-42d6-ab6f-a3cba76c95c7",
   "metadata": {},
   "source": [
    " To tackle the tasks, I broke down my methods into different phases:\n",
    "\n",
    "<b>Phase 1: <u>Identify Business Task</u> </b>\n",
    "- What are the business tasks we want to achieve?\n",
    "- Who are the stakeholders? (Who is this analysis for ?)\n",
    "\n",
    "<b>Phase 2: <u>Determine the credibility of the data </u> </b>\n",
    "- Understanding the data\n",
    "- Determine if data cleaning is required\n",
    "\n",
    "<b>Phase 3: <u>Process the data </u> </b>\n",
    "- to answer each task in the challenge\n",
    "- provide enough information for the stakeholders to answer the business tasks\n",
    "    "
   ]
  },
  {
   "cell_type": "markdown",
   "id": "a18b5d82-e9aa-419b-9b04-a8f3c37e0db4",
   "metadata": {},
   "source": [
    "## <b>Phase 1: <u>Identify Business Task</u> </b>\n",
    "\n",
    "### Business task:\n",
    "\n",
    "1. Understand the PROMs, as it gives strong indicator for clinician to understand the well-being of the patients\n",
    "2. Understand the user, easier for board of directors to make deicisons.\n",
    "\n",
    "The Challenge (listed below) gives us some direction for the data analysis to help achieve the business tasks.\n",
    "\n",
    "\n",
    "### Key stakeholders:\n",
    "1. Board of directors\n",
    "2. Clinician"
   ]
  },
  {
   "cell_type": "markdown",
   "id": "85b47530-4b6a-4bf8-9901-dfa14a28705a",
   "metadata": {},
   "source": [
    "***\n",
    "### Challenge\n",
    "Build and present a one or two page dashboard that answers the below questions:\n",
    "\n",
    "- How many users do we have?\n",
    "- How many users have joined us each month?\n",
    "- How many users have completed at least 1 PROM?\n",
    "- How many PROMs are completed each week/month? You can decide on the cadence.\n",
    "- How many users have each condition?\n",
    "- What other data attributes would you like to see in the data set, what else could be useful?\n",
    "\n",
    "#### Bonus\n",
    "- How many users do we have in each age group; 0-25, 26-50, 51-70, 70+\n",
    "- Are there any other interesting trends you have noticed?"
   ]
  },
  {
   "cell_type": "markdown",
   "id": "a3b2b82a-84b3-4960-a486-dce59b71dfdb",
   "metadata": {},
   "source": [
    "#### Assumptions\n",
    "- All data required for this challenge is in the 3 .csv files provided.\n",
    "- A PROM is completed when ‘prom_created_at’ has a value.\n",
    "- A user has joined us when ‘user_created_at’ has a value.\n",
    "- PROM scores are on a scale of 0 (worst) - 100 (best).\n",
    "***"
   ]
  },
  {
   "cell_type": "markdown",
   "id": "60b81f45-f9c2-403b-acfa-f32c340d041f",
   "metadata": {},
   "source": [
    "## <b>Phase 2: <u>Determine the credibility of the data</u> </b>\n",
    "\n",
    "There are three given data sets, user_data.csv, prom_data.csv and medical_data.csv, provided by the company. All the data seemed to provide very good information and are in good condition to be used.\n",
    "\n",
    "In user_data.csv, we get the patient's user id , the date they signed up for the service and their date of birth. Some records of date of birth of the patient are missing, and it does not seem viable to recreate/ replace those values without any further information. \n",
    "\n",
    "In prom_data.csv, it records the patient's user id, the date and time they partook the PROM, the name of the PROM , and their score for the PROM. At first glance, the data seemed to be in very good condition and ready to be used ( no cleaning required).\n",
    "\n",
    "Lastly, in medical_data.csv, it reports the date of patient's condition diagnosed, the condition, the hospital they are diagnosed at, , and the patient's user id. Similar to user_data.csv, it has some missing field in the date of diagnosed field.\n"
   ]
  },
  {
   "cell_type": "markdown",
   "id": "7bc950ca-ea77-45d5-8a83-a5eaf5f34c77",
   "metadata": {},
   "source": [
    "## <b>Phase 3: <u>Process the data </u> </b>"
   ]
  },
  {
   "cell_type": "code",
   "execution_count": 1,
   "id": "c1652935-e314-448f-970b-dc9e87743c50",
   "metadata": {},
   "outputs": [],
   "source": [
    "# Python modules\n",
    "import os\n",
    "from os.path import join as joinpath, abspath\n",
    "from datetime import datetime, date, timedelta\n",
    "# Data science modules\n",
    "import pandas as pd\n",
    "import numpy as np\n",
    "import seaborn as sns\n",
    "import matplotlib.ticker as ticker\n",
    "import matplotlib.pyplot as plt\n",
    "from matplotlib.pyplot import figure\n"
   ]
  },
  {
   "cell_type": "markdown",
   "id": "22eff99a-8449-48a7-93c7-accfc562c1af",
   "metadata": {},
   "source": [
    "## Reading In Data"
   ]
  },
  {
   "cell_type": "code",
   "execution_count": 2,
   "id": "4e1e9b8f-61b5-43c6-9020-f8495a7008e3",
   "metadata": {},
   "outputs": [
    {
     "name": "stdout",
     "output_type": "stream",
     "text": [
      "C:\\Users\\noonp\\OneDrive\\Desktop\\Projects\\Data\\medical_hospital\n",
      "C:\\Users\\noonp\\OneDrive\\Desktop\\Projects\\Data\\medical_hospital\\data\n"
     ]
    },
    {
     "data": {
      "text/plain": [
       "['.ipynb_checkpoints', 'medical_data.csv', 'prom_data.csv', 'user_data.csv']"
      ]
     },
     "execution_count": 2,
     "metadata": {},
     "output_type": "execute_result"
    }
   ],
   "source": [
    "# Define your own file path\n",
    "DIRPATH_ROOT = abspath(joinpath(\"..\", \"medical_hospital\"))\n",
    "print(DIRPATH_ROOT)\n",
    "DIRPATH_DATA = joinpath(DIRPATH_ROOT, \"data\")\n",
    "print(DIRPATH_DATA)\n",
    "os.listdir(DIRPATH_DATA)\n"
   ]
  },
  {
   "cell_type": "code",
   "execution_count": 3,
   "id": "84057bf7-73a7-44df-8569-901e76b4f1e4",
   "metadata": {},
   "outputs": [],
   "source": [
    "filename_1 = \"medical_data.csv\"\n",
    "filename_2 = \"prom_data.csv\"\n",
    "filename_3 = \"user_data.csv\"\n",
    "sheetname = \"Sheet1\"\n",
    "filepath_1 = joinpath(DIRPATH_DATA, filename_1)\n",
    "filepath_2 = joinpath(DIRPATH_DATA, filename_2)\n",
    "filepath_3 = joinpath(DIRPATH_DATA, filename_3)\n",
    "\n",
    "medical_df = pd.read_csv(filepath_1)\n",
    "prom_df = pd.read_csv(filepath_2)\n",
    "user_df = pd.read_csv(filepath_3)\n"
   ]
  },
  {
   "cell_type": "code",
   "execution_count": 4,
   "id": "026d4cd9-ec00-4f7a-8ce0-e868b26f95fc",
   "metadata": {},
   "outputs": [
    {
     "data": {
      "text/html": [
       "<div>\n",
       "<style scoped>\n",
       "    .dataframe tbody tr th:only-of-type {\n",
       "        vertical-align: middle;\n",
       "    }\n",
       "\n",
       "    .dataframe tbody tr th {\n",
       "        vertical-align: top;\n",
       "    }\n",
       "\n",
       "    .dataframe thead th {\n",
       "        text-align: right;\n",
       "    }\n",
       "</style>\n",
       "<table border=\"1\" class=\"dataframe\">\n",
       "  <thead>\n",
       "    <tr style=\"text-align: right;\">\n",
       "      <th></th>\n",
       "      <th>user_id</th>\n",
       "      <th>user_created_at</th>\n",
       "      <th>gender</th>\n",
       "      <th>date_of_birth</th>\n",
       "    </tr>\n",
       "  </thead>\n",
       "  <tbody>\n",
       "    <tr>\n",
       "      <th>0</th>\n",
       "      <td>258</td>\n",
       "      <td>2016-08-15 04:05:25</td>\n",
       "      <td>Unknown</td>\n",
       "      <td>NaN</td>\n",
       "    </tr>\n",
       "    <tr>\n",
       "      <th>1</th>\n",
       "      <td>360</td>\n",
       "      <td>2017-03-29 09:20:16</td>\n",
       "      <td>Male</td>\n",
       "      <td>1981-01-10</td>\n",
       "    </tr>\n",
       "    <tr>\n",
       "      <th>2</th>\n",
       "      <td>438</td>\n",
       "      <td>2017-09-21 14:05:09</td>\n",
       "      <td>Male</td>\n",
       "      <td>2019-01-01</td>\n",
       "    </tr>\n",
       "    <tr>\n",
       "      <th>3</th>\n",
       "      <td>451</td>\n",
       "      <td>2017-10-03 09:45:01</td>\n",
       "      <td>Unknown</td>\n",
       "      <td>NaN</td>\n",
       "    </tr>\n",
       "    <tr>\n",
       "      <th>4</th>\n",
       "      <td>467</td>\n",
       "      <td>2017-11-02 15:18:23</td>\n",
       "      <td>Unknown</td>\n",
       "      <td>NaN</td>\n",
       "    </tr>\n",
       "  </tbody>\n",
       "</table>\n",
       "</div>"
      ],
      "text/plain": [
       "   user_id      user_created_at   gender date_of_birth\n",
       "0      258  2016-08-15 04:05:25  Unknown           NaN\n",
       "1      360  2017-03-29 09:20:16     Male    1981-01-10\n",
       "2      438  2017-09-21 14:05:09     Male    2019-01-01\n",
       "3      451  2017-10-03 09:45:01  Unknown           NaN\n",
       "4      467  2017-11-02 15:18:23  Unknown           NaN"
      ]
     },
     "execution_count": 4,
     "metadata": {},
     "output_type": "execute_result"
    }
   ],
   "source": [
    "user_df.head()"
   ]
  },
  {
   "cell_type": "code",
   "execution_count": 5,
   "id": "e13122ea-2dff-4240-8ad4-93d3d80e71d7",
   "metadata": {},
   "outputs": [
    {
     "data": {
      "text/html": [
       "<div>\n",
       "<style scoped>\n",
       "    .dataframe tbody tr th:only-of-type {\n",
       "        vertical-align: middle;\n",
       "    }\n",
       "\n",
       "    .dataframe tbody tr th {\n",
       "        vertical-align: top;\n",
       "    }\n",
       "\n",
       "    .dataframe thead th {\n",
       "        text-align: right;\n",
       "    }\n",
       "</style>\n",
       "<table border=\"1\" class=\"dataframe\">\n",
       "  <thead>\n",
       "    <tr style=\"text-align: right;\">\n",
       "      <th></th>\n",
       "      <th>user_id</th>\n",
       "      <th>prom_score</th>\n",
       "    </tr>\n",
       "  </thead>\n",
       "  <tbody>\n",
       "    <tr>\n",
       "      <th>count</th>\n",
       "      <td>26341.000000</td>\n",
       "      <td>26341.000000</td>\n",
       "    </tr>\n",
       "    <tr>\n",
       "      <th>mean</th>\n",
       "      <td>12863.213432</td>\n",
       "      <td>6.827417</td>\n",
       "    </tr>\n",
       "    <tr>\n",
       "      <th>std</th>\n",
       "      <td>9002.476807</td>\n",
       "      <td>5.046825</td>\n",
       "    </tr>\n",
       "    <tr>\n",
       "      <th>min</th>\n",
       "      <td>258.000000</td>\n",
       "      <td>0.000000</td>\n",
       "    </tr>\n",
       "    <tr>\n",
       "      <th>25%</th>\n",
       "      <td>4656.000000</td>\n",
       "      <td>3.000000</td>\n",
       "    </tr>\n",
       "    <tr>\n",
       "      <th>50%</th>\n",
       "      <td>13501.000000</td>\n",
       "      <td>6.000000</td>\n",
       "    </tr>\n",
       "    <tr>\n",
       "      <th>75%</th>\n",
       "      <td>19763.000000</td>\n",
       "      <td>11.000000</td>\n",
       "    </tr>\n",
       "    <tr>\n",
       "      <th>max</th>\n",
       "      <td>31775.000000</td>\n",
       "      <td>97.000000</td>\n",
       "    </tr>\n",
       "  </tbody>\n",
       "</table>\n",
       "</div>"
      ],
      "text/plain": [
       "            user_id    prom_score\n",
       "count  26341.000000  26341.000000\n",
       "mean   12863.213432      6.827417\n",
       "std     9002.476807      5.046825\n",
       "min      258.000000      0.000000\n",
       "25%     4656.000000      3.000000\n",
       "50%    13501.000000      6.000000\n",
       "75%    19763.000000     11.000000\n",
       "max    31775.000000     97.000000"
      ]
     },
     "execution_count": 5,
     "metadata": {},
     "output_type": "execute_result"
    }
   ],
   "source": [
    "prom_df.describe()"
   ]
  },
  {
   "cell_type": "markdown",
   "id": "3fefbfc0-2920-4a13-9832-dd474274e91a",
   "metadata": {},
   "source": [
    "#### Question 1: - How many users do we have?\n",
    "\n",
    "we searched for the number of unique ID in the user_data.csv file "
   ]
  },
  {
   "cell_type": "code",
   "execution_count": 6,
   "id": "7a69b1a7-0033-4878-8f9b-d80c999e28a8",
   "metadata": {},
   "outputs": [
    {
     "name": "stdout",
     "output_type": "stream",
     "text": [
      "number of user is : 2530\n"
     ]
    }
   ],
   "source": [
    "users = user_df[\"user_id\"].unique()\n",
    "\n",
    "print(\"number of user is :\", len(users))"
   ]
  },
  {
   "cell_type": "markdown",
   "id": "41e04d86-162a-4593-910b-07ae8ed42674",
   "metadata": {},
   "source": [
    "#### Question 2: - How many users have joined us each month?\n",
    "\n",
    "As assumption stated in the document:\"A user has joined us when ‘user_created_at’ has a value\". We only seek for users with value in user_created_at. We want to investigate the the number of user join in each month. "
   ]
  },
  {
   "cell_type": "code",
   "execution_count": 7,
   "id": "03491dcd-5d13-44ec-bcb2-2b626d2365a6",
   "metadata": {
    "tags": []
   },
   "outputs": [
    {
     "data": {
      "text/html": [
       "<div>\n",
       "<style scoped>\n",
       "    .dataframe tbody tr th:only-of-type {\n",
       "        vertical-align: middle;\n",
       "    }\n",
       "\n",
       "    .dataframe tbody tr th {\n",
       "        vertical-align: top;\n",
       "    }\n",
       "\n",
       "    .dataframe thead th {\n",
       "        text-align: right;\n",
       "    }\n",
       "</style>\n",
       "<table border=\"1\" class=\"dataframe\">\n",
       "  <thead>\n",
       "    <tr style=\"text-align: right;\">\n",
       "      <th></th>\n",
       "      <th>user_id</th>\n",
       "      <th>user_created_at</th>\n",
       "      <th>gender</th>\n",
       "      <th>date_of_birth</th>\n",
       "      <th>Year-Month</th>\n",
       "    </tr>\n",
       "  </thead>\n",
       "  <tbody>\n",
       "    <tr>\n",
       "      <th>0</th>\n",
       "      <td>258</td>\n",
       "      <td>2016-08-15 04:05:25</td>\n",
       "      <td>Unknown</td>\n",
       "      <td>NaN</td>\n",
       "      <td>2016-08</td>\n",
       "    </tr>\n",
       "    <tr>\n",
       "      <th>1</th>\n",
       "      <td>360</td>\n",
       "      <td>2017-03-29 09:20:16</td>\n",
       "      <td>Male</td>\n",
       "      <td>1981-01-10</td>\n",
       "      <td>2017-03</td>\n",
       "    </tr>\n",
       "    <tr>\n",
       "      <th>2</th>\n",
       "      <td>438</td>\n",
       "      <td>2017-09-21 14:05:09</td>\n",
       "      <td>Male</td>\n",
       "      <td>2019-01-01</td>\n",
       "      <td>2017-09</td>\n",
       "    </tr>\n",
       "    <tr>\n",
       "      <th>3</th>\n",
       "      <td>451</td>\n",
       "      <td>2017-10-03 09:45:01</td>\n",
       "      <td>Unknown</td>\n",
       "      <td>NaN</td>\n",
       "      <td>2017-10</td>\n",
       "    </tr>\n",
       "    <tr>\n",
       "      <th>4</th>\n",
       "      <td>467</td>\n",
       "      <td>2017-11-02 15:18:23</td>\n",
       "      <td>Unknown</td>\n",
       "      <td>NaN</td>\n",
       "      <td>2017-11</td>\n",
       "    </tr>\n",
       "  </tbody>\n",
       "</table>\n",
       "</div>"
      ],
      "text/plain": [
       "   user_id     user_created_at   gender date_of_birth Year-Month\n",
       "0      258 2016-08-15 04:05:25  Unknown           NaN    2016-08\n",
       "1      360 2017-03-29 09:20:16     Male    1981-01-10    2017-03\n",
       "2      438 2017-09-21 14:05:09     Male    2019-01-01    2017-09\n",
       "3      451 2017-10-03 09:45:01  Unknown           NaN    2017-10\n",
       "4      467 2017-11-02 15:18:23  Unknown           NaN    2017-11"
      ]
     },
     "execution_count": 7,
     "metadata": {},
     "output_type": "execute_result"
    }
   ],
   "source": [
    "# Remomving all the user with NA value in user_created_at\n",
    "new_user_df = user_df.copy()\n",
    "new_user_df = new_user_df.drop_duplicates(subset=None, keep='first', inplace=False) # removes any duplicated data\n",
    "new_user_df = new_user_df.dropna(subset=['user_created_at'])\n",
    "\n",
    "\n",
    "# Turning the 'user_created_at' into datetime field, then breaking into month-year format.\n",
    "new_user_df['user_created_at']= pd.to_datetime(new_user_df['user_created_at'])\n",
    "new_user_df['Year-Month'] = new_user_df['user_created_at'].dt.to_period('M')\n",
    "new_user_df.head()"
   ]
  },
  {
   "cell_type": "code",
   "execution_count": 8,
   "id": "ae8f742c-f68f-4f67-8931-49f88204f4f8",
   "metadata": {},
   "outputs": [],
   "source": [
    "# Count the number of user joined in each month\n",
    "number_user_month = new_user_df.groupby(new_user_df[\"Year-Month\"])[\"user_id\"].agg([\"count\"])\n",
    "number_user_month.head()\n",
    "number_user_month.reset_index(inplace=True)"
   ]
  },
  {
   "cell_type": "code",
   "execution_count": 9,
   "id": "768a696a-b9e6-4ad4-8809-c80870b55a55",
   "metadata": {},
   "outputs": [
    {
     "data": {
      "text/plain": [
       "Text(0.5, 0, '')"
      ]
     },
     "execution_count": 9,
     "metadata": {},
     "output_type": "execute_result"
    },
    {
     "data": {
      "image/png": "[encoded data removed]",
      "text/plain": [
       "<Figure size 864x864 with 1 Axes>"
      ]
     },
     "metadata": {
      "needs_background": "light"
     },
     "output_type": "display_data"
    }
   ],
   "source": [
    "# Visualisation\n",
    "plt.rc('xtick', labelsize=12)\n",
    "fig3 = plt.figure(figsize = (12,12))\n",
    "ax = sns.barplot(x=\"Year-Month\",y =\"count\", data=number_user_month, color=\"seagreen\", alpha= 0.7)\n",
    "ax.xaxis.set_major_locator(ticker.MultipleLocator(12))\n",
    "plt.ylabel(\"Number of users joined\", fontsize=12)\n",
    "plt.xlabel(\"\")\n",
    "# plt.savefig(\"Monthly new user sign up.png\")"
   ]
  },
  {
   "cell_type": "markdown",
   "id": "58e4bf77-8ffa-4398-8ed7-544ced30e71c",
   "metadata": {},
   "source": [
    "#### Question 3: - How many users have completed at least 1 PROM?\n",
    "\n",
    "Similar to Question 2, as assumption stated in the document:\"A PROM is completed when ‘prom_created_at’ has a value\". We only seek for users with value in 'prom_created_at' . We want to find out the number of unique users that have at least 1 PROM."
   ]
  },
  {
   "cell_type": "code",
   "execution_count": 10,
   "id": "98f1645e-6a9a-4b88-afae-92f63fadc862",
   "metadata": {
    "tags": []
   },
   "outputs": [
    {
     "name": "stdout",
     "output_type": "stream",
     "text": [
      "The total record without NA value in 'prom_created_at': 23079\n",
      "Number of user that have completed at least 1 PROM: 2530\n"
     ]
    }
   ],
   "source": [
    "# Remomving all the user with NA value in prom_created_at\n",
    "new_prom_df = prom_df.copy()\n",
    "new_prom_df = new_prom_df.dropna(subset=['prom_created_at'])\n",
    "new_prom_df = new_prom_df.drop_duplicates(subset=None, keep='first', inplace=False) # removes any duplicated data\n",
    "print(\"The total record without NA value in 'prom_created_at':\",len(new_prom_df))\n",
    "\n",
    "\n",
    "prom_users = new_prom_df.groupby([\"user_id\"])[\"prom_created_at\"].nunique()\n",
    "print(\"Number of user that have completed at least 1 PROM:\", len(prom_users))\n",
    "#All the users have completed at least 1 PROM\n",
    "\n",
    "prom_completed = prom_df[\"prom_created_at\"].notna().sum()\n"
   ]
  },
  {
   "cell_type": "markdown",
   "id": "1f483dc1-dac4-4b65-b163-cdaaf5a67c9b",
   "metadata": {
    "tags": []
   },
   "source": [
    "#### Question 4: - How many PROMs are completed each week/month? You can decide on the cadence."
   ]
  },
  {
   "cell_type": "code",
   "execution_count": 11,
   "id": "118f691a-4953-4a38-b373-584e85832017",
   "metadata": {
    "tags": []
   },
   "outputs": [
    {
     "data": {
      "text/html": [
       "<div>\n",
       "<style scoped>\n",
       "    .dataframe tbody tr th:only-of-type {\n",
       "        vertical-align: middle;\n",
       "    }\n",
       "\n",
       "    .dataframe tbody tr th {\n",
       "        vertical-align: top;\n",
       "    }\n",
       "\n",
       "    .dataframe thead th {\n",
       "        text-align: right;\n",
       "    }\n",
       "</style>\n",
       "<table border=\"1\" class=\"dataframe\">\n",
       "  <thead>\n",
       "    <tr style=\"text-align: right;\">\n",
       "      <th></th>\n",
       "      <th>Year-Month</th>\n",
       "      <th>count</th>\n",
       "    </tr>\n",
       "  </thead>\n",
       "  <tbody>\n",
       "    <tr>\n",
       "      <th>0</th>\n",
       "      <td>2016-08</td>\n",
       "      <td>2</td>\n",
       "    </tr>\n",
       "    <tr>\n",
       "      <th>1</th>\n",
       "      <td>2016-09</td>\n",
       "      <td>2</td>\n",
       "    </tr>\n",
       "    <tr>\n",
       "      <th>2</th>\n",
       "      <td>2016-10</td>\n",
       "      <td>9</td>\n",
       "    </tr>\n",
       "    <tr>\n",
       "      <th>3</th>\n",
       "      <td>2017-07</td>\n",
       "      <td>9</td>\n",
       "    </tr>\n",
       "    <tr>\n",
       "      <th>4</th>\n",
       "      <td>2017-09</td>\n",
       "      <td>15</td>\n",
       "    </tr>\n",
       "  </tbody>\n",
       "</table>\n",
       "</div>"
      ],
      "text/plain": [
       "  Year-Month  count\n",
       "0    2016-08      2\n",
       "1    2016-09      2\n",
       "2    2016-10      9\n",
       "3    2017-07      9\n",
       "4    2017-09     15"
      ]
     },
     "execution_count": 11,
     "metadata": {},
     "output_type": "execute_result"
    }
   ],
   "source": [
    "# Month:\n",
    "# Turning the 'prom_created_at' into datetime field, then breaking into month-year format.\n",
    "new_prom_df['prom_created_at']= pd.to_datetime(new_prom_df['prom_created_at'])\n",
    "new_prom_df['Year-Month'] = new_prom_df['prom_created_at'].dt.to_period('M')\n",
    "number_prom_month = new_prom_df.groupby([\"Year-Month\"])[\"user_id\"].agg([\"count\"])\n",
    "number_prom_month.reset_index(inplace=True)\n",
    "number_prom_month.head()"
   ]
  },
  {
   "cell_type": "code",
   "execution_count": 12,
   "id": "68429a5f-3648-462c-8eec-8cf2bba0430c",
   "metadata": {},
   "outputs": [
    {
     "data": {
      "text/plain": [
       "Text(0.5, 0, 'Year-Month')"
      ]
     },
     "execution_count": 12,
     "metadata": {},
     "output_type": "execute_result"
    },
    {
     "data": {
      "image/png": "[encoded data removed]",
      "text/plain": [
       "<Figure size 864x432 with 1 Axes>"
      ]
     },
     "metadata": {
      "needs_background": "light"
     },
     "output_type": "display_data"
    }
   ],
   "source": [
    "# Visualisation\n",
    "\n",
    "plt.rc('xtick', labelsize=10)\n",
    "fig = plt.figure(figsize = (12,6))\n",
    "colour = sns.dark_palette(\"seagreen\", n_colors = 59)\n",
    "ax = sns.barplot(x=\"Year-Month\",y =\"count\", data=number_prom_month,  palette=colour)\n",
    "                 \n",
    "# color='seagreen', alpha= 0.7)\n",
    "ax.xaxis.set_major_locator(ticker.MultipleLocator(11))\n",
    "plt.ylabel(\"Number of PROMs completed\")\n",
    "plt.xlabel(\"Year-Month\", fontsize=14)\n",
    "# plt.savefig(\"Month Prom.png\")"
   ]
  },
  {
   "cell_type": "code",
   "execution_count": 13,
   "id": "a4eca7ad-6e83-4a78-974b-fd1b2c7ef445",
   "metadata": {},
   "outputs": [
    {
     "data": {
      "text/html": [
       "<div>\n",
       "<style scoped>\n",
       "    .dataframe tbody tr th:only-of-type {\n",
       "        vertical-align: middle;\n",
       "    }\n",
       "\n",
       "    .dataframe tbody tr th {\n",
       "        vertical-align: top;\n",
       "    }\n",
       "\n",
       "    .dataframe thead th {\n",
       "        text-align: right;\n",
       "    }\n",
       "</style>\n",
       "<table border=\"1\" class=\"dataframe\">\n",
       "  <thead>\n",
       "    <tr style=\"text-align: right;\">\n",
       "      <th></th>\n",
       "      <th>Year-Week</th>\n",
       "      <th>count</th>\n",
       "    </tr>\n",
       "  </thead>\n",
       "  <tbody>\n",
       "    <tr>\n",
       "      <th>0</th>\n",
       "      <td>2016-33</td>\n",
       "      <td>2</td>\n",
       "    </tr>\n",
       "    <tr>\n",
       "      <th>1</th>\n",
       "      <td>2016-37</td>\n",
       "      <td>2</td>\n",
       "    </tr>\n",
       "    <tr>\n",
       "      <th>2</th>\n",
       "      <td>2016-41</td>\n",
       "      <td>9</td>\n",
       "    </tr>\n",
       "    <tr>\n",
       "      <th>3</th>\n",
       "      <td>2017-27</td>\n",
       "      <td>6</td>\n",
       "    </tr>\n",
       "    <tr>\n",
       "      <th>4</th>\n",
       "      <td>2017-31</td>\n",
       "      <td>3</td>\n",
       "    </tr>\n",
       "    <tr>\n",
       "      <th>...</th>\n",
       "      <td>...</td>\n",
       "      <td>...</td>\n",
       "    </tr>\n",
       "    <tr>\n",
       "      <th>217</th>\n",
       "      <td>2022-12</td>\n",
       "      <td>149</td>\n",
       "    </tr>\n",
       "    <tr>\n",
       "      <th>218</th>\n",
       "      <td>2022-13</td>\n",
       "      <td>158</td>\n",
       "    </tr>\n",
       "    <tr>\n",
       "      <th>219</th>\n",
       "      <td>2022-14</td>\n",
       "      <td>236</td>\n",
       "    </tr>\n",
       "    <tr>\n",
       "      <th>220</th>\n",
       "      <td>2022-15</td>\n",
       "      <td>145</td>\n",
       "    </tr>\n",
       "    <tr>\n",
       "      <th>221</th>\n",
       "      <td>2022-16</td>\n",
       "      <td>81</td>\n",
       "    </tr>\n",
       "  </tbody>\n",
       "</table>\n",
       "<p>222 rows × 2 columns</p>\n",
       "</div>"
      ],
      "text/plain": [
       "    Year-Week  count\n",
       "0     2016-33      2\n",
       "1     2016-37      2\n",
       "2     2016-41      9\n",
       "3     2017-27      6\n",
       "4     2017-31      3\n",
       "..        ...    ...\n",
       "217   2022-12    149\n",
       "218   2022-13    158\n",
       "219   2022-14    236\n",
       "220   2022-15    145\n",
       "221   2022-16     81\n",
       "\n",
       "[222 rows x 2 columns]"
      ]
     },
     "execution_count": 13,
     "metadata": {},
     "output_type": "execute_result"
    }
   ],
   "source": [
    "# Week\n",
    "new_prom_df['Year-Week'] = new_prom_df['prom_created_at'].dt.strftime('%Y-%U')\n",
    "number_prom_week = new_prom_df.groupby([\"Year-Week\"])[\"user_id\"].agg([\"count\"])\n",
    "number_prom_week.reset_index(inplace=True)\n",
    "number_prom_week"
   ]
  },
  {
   "cell_type": "code",
   "execution_count": 14,
   "id": "c2dbcfa3-9d92-4834-8d6f-4321172fe004",
   "metadata": {},
   "outputs": [
    {
     "data": {
      "text/plain": [
       "Text(0.5, 0, 'Year-Week')"
      ]
     },
     "execution_count": 14,
     "metadata": {},
     "output_type": "execute_result"
    },
    {
     "data": {
      "image/png": "[encoded data removed]",
      "text/plain": [
       "<Figure size 1080x432 with 1 Axes>"
      ]
     },
     "metadata": {
      "needs_background": "light"
     },
     "output_type": "display_data"
    }
   ],
   "source": [
    "# Visualisation\n",
    "\n",
    "plt.rc('xtick', labelsize=10)\n",
    "fig = plt.figure(figsize = (15,6))\n",
    "colour = sns.dark_palette(\"seagreen\", n_colors = 222)\n",
    "ax = sns.barplot(x=\"Year-Week\",y =\"count\", data=number_prom_week, palette=colour)\n",
    "ax.xaxis.set_major_locator(ticker.MultipleLocator(52))\n",
    "plt.ylabel(\"Number of PROMs completed\")\n",
    "plt.xlabel(\"Year-Week\", fontsize=14)\n",
    "# plt.savefig(\"Week prom.png\")"
   ]
  },
  {
   "cell_type": "markdown",
   "id": "9bc59940-b3aa-4d16-b84b-9a41d8fd77a2",
   "metadata": {
    "tags": []
   },
   "source": [
    "#### Question 5: - How many users have each condition?"
   ]
  },
  {
   "cell_type": "code",
   "execution_count": 15,
   "id": "09af795f-e1a8-45fb-85aa-6c075544669b",
   "metadata": {
    "tags": []
   },
   "outputs": [
    {
     "data": {
      "text/plain": [
       "Crohn’s disease        1339\n",
       "Ulcerative colitis     1134\n",
       "IBDU                     71\n",
       "Pouchitis                17\n",
       "Microscopic Colitis      15\n",
       "Celiac                    6\n",
       "Name: condition, dtype: int64"
      ]
     },
     "execution_count": 15,
     "metadata": {},
     "output_type": "execute_result"
    }
   ],
   "source": [
    "medical_df['condition'].value_counts()"
   ]
  },
  {
   "cell_type": "code",
   "execution_count": 16,
   "id": "24be1a90-079c-4be5-87dd-5c2b75dd7ff7",
   "metadata": {
    "tags": []
   },
   "outputs": [
    {
     "data": {
      "text/plain": [
       "Text(0, 0.5, 'Number of users')"
      ]
     },
     "execution_count": 16,
     "metadata": {},
     "output_type": "execute_result"
    },
    {
     "data": {
      "image/png": "[encoded data removed]",
      "text/plain": [
       "<Figure size 936x1008 with 1 Axes>"
      ]
     },
     "metadata": {
      "needs_background": "light"
     },
     "output_type": "display_data"
    }
   ],
   "source": [
    "# Visualisation \n",
    "\n",
    "fig = plt.figure(figsize = (13,14))\n",
    "colour = sns.color_palette(\"BuPu_r\")\n",
    "\n",
    "ax = sns.countplot(x=\"condition\", data=medical_df, palette=colour, order = medical_df[\"condition\"].value_counts().index)\n",
    "ax.set_yscale(\"log\")\n",
    "plt.xlabel(\"\")\n",
    "plt.ylabel(\"Number of users\")\n",
    "\n",
    "# plt.savefig(\"total condition.png\",bbox_inches='tight',dpi=100)"
   ]
  },
  {
   "cell_type": "markdown",
   "id": "f830e8be-3c81-4f08-b955-e1699b53af95",
   "metadata": {
    "tags": []
   },
   "source": [
    "#### Question 6: - What other data attributes would you like to see in the data set, what else could be useful?\n",
    "\n",
    "Essentially, we want data that can help us understand/ answer the outlined business task, and giving insights to the stakeholders. Some useful data could be\n",
    "\n",
    "Board of directors:\n",
    "1. More demographic data of the users \n",
    "2. The cost of each running each PROMs \n",
    "3. If there is any user stop using the company's service ? (churn rate)\n",
    "\n",
    "Clinicians:\n",
    "1. More detailed information for each PROMs ( how are the PROMs scored?)\n",
    "2. How many or what type of treatments each patients undergone ?\n",
    "3. General patient's information: weight, height, BMI etc\n"
   ]
  },
  {
   "cell_type": "markdown",
   "id": "cc2d95c0-c4af-4772-901c-4056dba5536b",
   "metadata": {
    "tags": []
   },
   "source": [
    "#### Question 7: - How many users do we have in each age group; 0-25, 26-50, 51-70, 70+"
   ]
  },
  {
   "cell_type": "code",
   "execution_count": 17,
   "id": "f689f036-7dd2-4a11-af64-4c0cb37b5546",
   "metadata": {
    "tags": []
   },
   "outputs": [],
   "source": [
    "# Removing the users without DOB\n",
    "user_new_df= user_df.copy()\n",
    "user_new_df=user_new_df.dropna()\n",
    "\n",
    "\n",
    "# calculate age\n",
    "def age(born):\n",
    "    born = datetime.strptime(born, \"%Y-%m-%d\").date()\n",
    "    today = date.today()\n",
    "    return today.year - born.year - ((today.month, \n",
    "                                      today.day) < (born.month, \n",
    "                                                    born.day))\n",
    "        \n",
    "user_new_df['Age'] = user_new_df['date_of_birth'].apply(age)"
   ]
  },
  {
   "cell_type": "code",
   "execution_count": 18,
   "id": "fa7a6bb5-b075-477c-a3a4-c4dfb6c053fa",
   "metadata": {
    "tags": []
   },
   "outputs": [
    {
     "name": "stdout",
     "output_type": "stream",
     "text": [
      "      user_id      user_created_at  gender date_of_birth   Age\n",
      "2348     3326  2019-06-11 12:44:17  Female    0078-03-20  1944\n",
      "Empty DataFrame\n",
      "Columns: [user_id, user_created_at, gender, date_of_birth, Age]\n",
      "Index: []\n"
     ]
    }
   ],
   "source": [
    "# Check for outlier/ error\n",
    "\n",
    "# check for outlier\n",
    "print(user_new_df.loc[user_new_df['Age'] >= 100 ])\n",
    "print(user_new_df.loc[user_new_df['Age'] <= 0 ])\n",
    "# one record has outlier\n",
    "\n",
    "# Correcting the date_of_birth \n",
    "user_new_df.loc[2348, \"date_of_birth\"] = \"1978-03-20\"\n",
    "\n",
    "# Reapply the age \n",
    "user_new_df['Age'] = user_new_df['date_of_birth'].apply(age)\n"
   ]
  },
  {
   "cell_type": "code",
   "execution_count": 19,
   "id": "8f235de0-499c-4957-8e16-80cb77754194",
   "metadata": {
    "tags": []
   },
   "outputs": [],
   "source": [
    "# AgeGroup\n",
    "label = [\"0-25\",\"26-50\",\"51-70\",\"70+\"]\n",
    "user_new_df['Age Group'] = pd.cut(user_new_df['Age'], bins =[0,26,51,71, 100], labels=label)\n",
    "age_group_number = user_new_df.groupby(user_new_df[\"Age Group\"])[\"user_id\"].agg([\"count\"])\n",
    "age_group_number.reset_index(inplace=True)"
   ]
  },
  {
   "cell_type": "code",
   "execution_count": 20,
   "id": "c41fbcaa-7cc0-4acb-b4d2-5ba04519d73e",
   "metadata": {},
   "outputs": [
    {
     "data": {
      "text/plain": [
       "Text(0.5, 0, 'Age Group')"
      ]
     },
     "execution_count": 20,
     "metadata": {},
     "output_type": "execute_result"
    },
    {
     "data": {
      "image/png": "[encoded data removed]",
      "text/plain": [
       "<Figure size 864x864 with 1 Axes>"
      ]
     },
     "metadata": {
      "needs_background": "light"
     },
     "output_type": "display_data"
    }
   ],
   "source": [
    "# Visualisation\n",
    "\n",
    "plt.rc('xtick', labelsize=14)\n",
    "fig = plt.figure(figsize = (12,12))\n",
    "\n",
    "ax = sns.barplot(x=\"Age Group\",y =\"count\", data=age_group_number, palette= \"BrBG_r\")\n",
    "plt.ylabel(\"Number of users\")\n",
    "plt.xlabel(\"Age Group\", fontsize=14)\n",
    "\n",
    "# plt.savefig(\"Age group sign up.png\")"
   ]
  },
  {
   "cell_type": "markdown",
   "id": "23d59cec-876d-4e26-97ae-c16904a98fba",
   "metadata": {
    "tags": []
   },
   "source": [
    "#### Question 8: - Are there any other interesting trends you have noticed?"
   ]
  },
  {
   "cell_type": "markdown",
   "id": "b3829cb2-d203-4344-a754-8800a118a2ea",
   "metadata": {},
   "source": [
    "a few things we can investigate:\n",
    "1. <b><u>The number of each PROM administered</u></b>: \n",
    "\n",
    "We can get a good idea of how many PROM is administered. Then think about if is really neccessary to keep investing in the PROMs that is hardly used.\n",
    "\n",
    "2. <b><u>The total number of each gender user</u></b>: \n",
    "\n",
    "We can get a better picture of the customer demographic\n",
    "\n",
    "3. <b><u>Average PROM scores</u></b>: \n",
    "\n",
    "We get an overview of how a patient felt about a specfic PROM\n",
    "\n",
    "4. <b><u> The total number of each condition </u></b>: \n",
    "\n",
    "We get an idea of how many conditions our patient usually have.\n",
    "\n",
    "5. <b><u>Total diagnosis in each hostpital, broken down by condition</u></b>: \n",
    "\n",
    "We can understand which are the better/ more accessible hospital: then the company can decide if they want to invest more into the relationship with them; the clinician can understand which hospital has better facilities to deal with the patients\n",
    "\n",
    "6. <b><u>Age group of patients when diagnose of condition</u></b>:\n",
    "\n",
    "Understand which conditions are prevalent in each age group\n",
    "\n",
    "7. <b><u>The number of diagnosed condition each day, separated by hospital</u></b>: \n",
    "\n",
    "Get an overview of how the number of times a condition is diagnosed\n",
    "\n",
    "8. <b><u>The average PROM score for age groups</u></b>: \n",
    "\n",
    "Assessing which age group has better response to PROM\n",
    "\n",
    "\n",
    "\n",
    "**The codes below show how each information are processed, some thought process and data visualisations\n",
    "\n"
   ]
  },
  {
   "cell_type": "markdown",
   "id": "baf9ce05-9e03-40da-9157-e217e435cb6f",
   "metadata": {},
   "source": [
    "### 1. The number of each PROM administered.\n"
   ]
  },
  {
   "cell_type": "code",
   "execution_count": 21,
   "id": "11d3202a-bc37-405a-b578-fd82d4106428",
   "metadata": {
    "tags": []
   },
   "outputs": [
    {
     "data": {
      "text/plain": [
       "Symptoms Questionnaire (IBD Control)                                7944\n",
       "SSQ                                                                 5847\n",
       "HBI                                                                 5250\n",
       "SCCAI                                                               3379\n",
       "SLEEP DIARY                                                          336\n",
       "Patient Survey - Pre-deployment                                      122\n",
       "Acceptance & Committment Therapy Survey (ACT)                         43\n",
       "Chronic Pain Grade Scale                                              36\n",
       "Inflammatory Bowel Disease-Fatigue (IBD-F) Self-assessment Scale      36\n",
       "GAD-7                                                                 36\n",
       "Medication Categories                                                 24\n",
       "COVID-19                                                              12\n",
       "Your experience with physical activity                                 8\n",
       "Your experience with relationships                                     6\n",
       "Name: prom_name, dtype: int64"
      ]
     },
     "execution_count": 21,
     "metadata": {},
     "output_type": "execute_result"
    }
   ],
   "source": [
    "each_prom_number = new_prom_df[\"prom_name\"].value_counts()\n",
    "each_prom_number "
   ]
  },
  {
   "cell_type": "code",
   "execution_count": 22,
   "id": "dea80347-48c7-4dd6-b058-61803b8a00e0",
   "metadata": {
    "tags": []
   },
   "outputs": [
    {
     "data": {
      "text/plain": [
       "Text(0, 0.5, '')"
      ]
     },
     "execution_count": 22,
     "metadata": {},
     "output_type": "execute_result"
    },
    {
     "data": {
      "image/png": "[encoded data removed]",
      "text/plain": [
       "<Figure size 1152x360 with 1 Axes>"
      ]
     },
     "metadata": {
      "needs_background": "light"
     },
     "output_type": "display_data"
    }
   ],
   "source": [
    "# Visualisation\n",
    "\n",
    "fig = plt.figure(figsize = (16,5))\n",
    "colour = sns.dark_palette(\"Green\", 16, reverse= True)\n",
    "\n",
    "ax = sns.countplot(y=\"prom_name\", data=new_prom_df, palette=colour, order = new_prom_df[\"prom_name\"].value_counts().index)\n",
    "plt.xlabel(\"\")\n",
    "plt.ylabel(\"\")\n",
    "\n",
    "# plt.savefig(\"PROM number.png\",bbox_inches='tight',dpi=100)"
   ]
  },
  {
   "cell_type": "markdown",
   "id": "286152ce-639c-469b-903c-5da6121afae2",
   "metadata": {},
   "source": [
    "### 2. Total number of each gender user"
   ]
  },
  {
   "cell_type": "code",
   "execution_count": 23,
   "id": "1bded744-ba12-4d1e-9632-2df5e93aef0a",
   "metadata": {
    "tags": []
   },
   "outputs": [
    {
     "data": {
      "text/plain": [
       "Female     1484\n",
       "Male        830\n",
       "Unknown     216\n",
       "Name: gender, dtype: int64"
      ]
     },
     "execution_count": 23,
     "metadata": {},
     "output_type": "execute_result"
    }
   ],
   "source": [
    "gender_number = new_user_df[\"gender\"].value_counts()\n",
    "gender_number"
   ]
  },
  {
   "cell_type": "code",
   "execution_count": 24,
   "id": "1f63f998-27e2-4463-8286-002a4bdb2734",
   "metadata": {
    "tags": []
   },
   "outputs": [
    {
     "data": {
      "text/plain": [
       "<matplotlib.patches.Circle at 0x1dcf80e4ac0>"
      ]
     },
     "execution_count": 24,
     "metadata": {},
     "output_type": "execute_result"
    },
    {
     "data": {
      "image/png": "[encoded data removed]",
      "text/plain": [
       "<Figure size 576x576 with 1 Axes>"
      ]
     },
     "metadata": {},
     "output_type": "display_data"
    }
   ],
   "source": [
    "# Visualisation\n",
    "\n",
    "fig = plt.figure(figsize = (8,8))\n",
    "\n",
    "colour=sns.color_palette(\"BrBG_r\", 4)\n",
    "\n",
    "gender_number.plot(kind=\"pie\", colors = colour, wedgeprops={'alpha':0.5}, autopct='%.0f%%', textprops={'fontsize': 20})\n",
    "plt.ylabel(\"\")\n",
    "\n",
    "circle = plt.Circle( (0,0), 0.7, color='white')\n",
    "p = plt.gcf()\n",
    "p.gca().add_artist(circle)\n",
    "# plt.savefig(\"Gender.png\",bbox_inches='tight',dpi=100)"
   ]
  },
  {
   "cell_type": "markdown",
   "id": "f2db1718-1e48-41b6-869e-578517077034",
   "metadata": {},
   "source": [
    "### 3. Average PROM Score"
   ]
  },
  {
   "cell_type": "code",
   "execution_count": 25,
   "id": "424c190b-e1bb-411e-b6d7-629f8b6e6a6b",
   "metadata": {
    "tags": []
   },
   "outputs": [
    {
     "data": {
      "text/html": [
       "<div>\n",
       "<style scoped>\n",
       "    .dataframe tbody tr th:only-of-type {\n",
       "        vertical-align: middle;\n",
       "    }\n",
       "\n",
       "    .dataframe tbody tr th {\n",
       "        vertical-align: top;\n",
       "    }\n",
       "\n",
       "    .dataframe thead th {\n",
       "        text-align: right;\n",
       "    }\n",
       "</style>\n",
       "<table border=\"1\" class=\"dataframe\">\n",
       "  <thead>\n",
       "    <tr style=\"text-align: right;\">\n",
       "      <th></th>\n",
       "      <th>count</th>\n",
       "      <th>max</th>\n",
       "      <th>min</th>\n",
       "      <th>mean</th>\n",
       "      <th>std</th>\n",
       "    </tr>\n",
       "    <tr>\n",
       "      <th>prom_name</th>\n",
       "      <th></th>\n",
       "      <th></th>\n",
       "      <th></th>\n",
       "      <th></th>\n",
       "      <th></th>\n",
       "    </tr>\n",
       "  </thead>\n",
       "  <tbody>\n",
       "    <tr>\n",
       "      <th>Your experience with physical activity</th>\n",
       "      <td>8</td>\n",
       "      <td>28.0</td>\n",
       "      <td>14.0</td>\n",
       "      <td>25.000000</td>\n",
       "      <td>4.598136</td>\n",
       "    </tr>\n",
       "    <tr>\n",
       "      <th>Chronic Pain Grade Scale</th>\n",
       "      <td>36</td>\n",
       "      <td>62.0</td>\n",
       "      <td>0.0</td>\n",
       "      <td>23.972222</td>\n",
       "      <td>20.976839</td>\n",
       "    </tr>\n",
       "    <tr>\n",
       "      <th>Your experience with relationships</th>\n",
       "      <td>6</td>\n",
       "      <td>25.0</td>\n",
       "      <td>20.0</td>\n",
       "      <td>22.666667</td>\n",
       "      <td>1.966384</td>\n",
       "    </tr>\n",
       "    <tr>\n",
       "      <th>Inflammatory Bowel Disease-Fatigue (IBD-F) Self-assessment Scale</th>\n",
       "      <td>36</td>\n",
       "      <td>17.0</td>\n",
       "      <td>0.0</td>\n",
       "      <td>12.166667</td>\n",
       "      <td>4.638349</td>\n",
       "    </tr>\n",
       "    <tr>\n",
       "      <th>Acceptance &amp; Committment Therapy Survey (ACT)</th>\n",
       "      <td>43</td>\n",
       "      <td>17.0</td>\n",
       "      <td>6.0</td>\n",
       "      <td>11.813953</td>\n",
       "      <td>2.322312</td>\n",
       "    </tr>\n",
       "    <tr>\n",
       "      <th>Symptoms Questionnaire (IBD Control)</th>\n",
       "      <td>7944</td>\n",
       "      <td>17.0</td>\n",
       "      <td>0.0</td>\n",
       "      <td>9.102090</td>\n",
       "      <td>4.986349</td>\n",
       "    </tr>\n",
       "    <tr>\n",
       "      <th>SSQ</th>\n",
       "      <td>5847</td>\n",
       "      <td>12.0</td>\n",
       "      <td>0.0</td>\n",
       "      <td>7.848298</td>\n",
       "      <td>3.382059</td>\n",
       "    </tr>\n",
       "    <tr>\n",
       "      <th>GAD-7</th>\n",
       "      <td>36</td>\n",
       "      <td>18.0</td>\n",
       "      <td>0.0</td>\n",
       "      <td>7.388889</td>\n",
       "      <td>5.718530</td>\n",
       "    </tr>\n",
       "    <tr>\n",
       "      <th>SCCAI</th>\n",
       "      <td>3379</td>\n",
       "      <td>18.0</td>\n",
       "      <td>0.0</td>\n",
       "      <td>5.215152</td>\n",
       "      <td>3.838379</td>\n",
       "    </tr>\n",
       "    <tr>\n",
       "      <th>COVID-19</th>\n",
       "      <td>12</td>\n",
       "      <td>7.0</td>\n",
       "      <td>3.0</td>\n",
       "      <td>4.916667</td>\n",
       "      <td>1.729862</td>\n",
       "    </tr>\n",
       "    <tr>\n",
       "      <th>HBI</th>\n",
       "      <td>5250</td>\n",
       "      <td>97.0</td>\n",
       "      <td>0.0</td>\n",
       "      <td>4.145143</td>\n",
       "      <td>4.416698</td>\n",
       "    </tr>\n",
       "    <tr>\n",
       "      <th>Medication Categories</th>\n",
       "      <td>24</td>\n",
       "      <td>0.0</td>\n",
       "      <td>0.0</td>\n",
       "      <td>0.000000</td>\n",
       "      <td>0.000000</td>\n",
       "    </tr>\n",
       "    <tr>\n",
       "      <th>Patient Survey - Pre-deployment</th>\n",
       "      <td>122</td>\n",
       "      <td>0.0</td>\n",
       "      <td>0.0</td>\n",
       "      <td>0.000000</td>\n",
       "      <td>0.000000</td>\n",
       "    </tr>\n",
       "    <tr>\n",
       "      <th>SLEEP DIARY</th>\n",
       "      <td>336</td>\n",
       "      <td>0.0</td>\n",
       "      <td>0.0</td>\n",
       "      <td>0.000000</td>\n",
       "      <td>0.000000</td>\n",
       "    </tr>\n",
       "  </tbody>\n",
       "</table>\n",
       "</div>"
      ],
      "text/plain": [
       "                                                    count   max   min  \\\n",
       "prom_name                                                               \n",
       "Your experience with physical activity                  8  28.0  14.0   \n",
       "Chronic Pain Grade Scale                               36  62.0   0.0   \n",
       "Your experience with relationships                      6  25.0  20.0   \n",
       "Inflammatory Bowel Disease-Fatigue (IBD-F) Self...     36  17.0   0.0   \n",
       "Acceptance & Committment Therapy Survey (ACT)          43  17.0   6.0   \n",
       "Symptoms Questionnaire (IBD Control)                 7944  17.0   0.0   \n",
       "SSQ                                                  5847  12.0   0.0   \n",
       "GAD-7                                                  36  18.0   0.0   \n",
       "SCCAI                                                3379  18.0   0.0   \n",
       "COVID-19                                               12   7.0   3.0   \n",
       "HBI                                                  5250  97.0   0.0   \n",
       "Medication Categories                                  24   0.0   0.0   \n",
       "Patient Survey - Pre-deployment                       122   0.0   0.0   \n",
       "SLEEP DIARY                                           336   0.0   0.0   \n",
       "\n",
       "                                                         mean        std  \n",
       "prom_name                                                                 \n",
       "Your experience with physical activity              25.000000   4.598136  \n",
       "Chronic Pain Grade Scale                            23.972222  20.976839  \n",
       "Your experience with relationships                  22.666667   1.966384  \n",
       "Inflammatory Bowel Disease-Fatigue (IBD-F) Self...  12.166667   4.638349  \n",
       "Acceptance & Committment Therapy Survey (ACT)       11.813953   2.322312  \n",
       "Symptoms Questionnaire (IBD Control)                 9.102090   4.986349  \n",
       "SSQ                                                  7.848298   3.382059  \n",
       "GAD-7                                                7.388889   5.718530  \n",
       "SCCAI                                                5.215152   3.838379  \n",
       "COVID-19                                             4.916667   1.729862  \n",
       "HBI                                                  4.145143   4.416698  \n",
       "Medication Categories                                0.000000   0.000000  \n",
       "Patient Survey - Pre-deployment                      0.000000   0.000000  \n",
       "SLEEP DIARY                                          0.000000   0.000000  "
      ]
     },
     "execution_count": 25,
     "metadata": {},
     "output_type": "execute_result"
    }
   ],
   "source": [
    "each_prom_number = new_prom_df[\"prom_name\"].value_counts()\n",
    "average_prom_score = new_prom_df.groupby(new_prom_df[\"prom_name\"])[\"prom_score\"].agg([\"count\", \"max\", \"min\",\"mean\", \"std\"]).sort_values(by=[\"mean\"], ascending =False)\n",
    "average_prom_score"
   ]
  },
  {
   "cell_type": "markdown",
   "id": "cbcb4155-9dc0-4d55-b5fd-b44b122bd9f3",
   "metadata": {},
   "source": [
    "Medication Categories, SLEEP DIARY and Patient Survey- Pre-deployment do not seemed to have a prom_score associated with them. Therefore, they are dropped from the data."
   ]
  },
  {
   "cell_type": "code",
   "execution_count": 26,
   "id": "a1a24ed5-f653-4868-a6af-eccf19f743b4",
   "metadata": {},
   "outputs": [
    {
     "data": {
      "text/html": [
       "<div>\n",
       "<style scoped>\n",
       "    .dataframe tbody tr th:only-of-type {\n",
       "        vertical-align: middle;\n",
       "    }\n",
       "\n",
       "    .dataframe tbody tr th {\n",
       "        vertical-align: top;\n",
       "    }\n",
       "\n",
       "    .dataframe thead th {\n",
       "        text-align: right;\n",
       "    }\n",
       "</style>\n",
       "<table border=\"1\" class=\"dataframe\">\n",
       "  <thead>\n",
       "    <tr style=\"text-align: right;\">\n",
       "      <th></th>\n",
       "      <th>prom_name</th>\n",
       "      <th>count</th>\n",
       "      <th>max</th>\n",
       "      <th>min</th>\n",
       "      <th>mean</th>\n",
       "      <th>std</th>\n",
       "    </tr>\n",
       "  </thead>\n",
       "  <tbody>\n",
       "    <tr>\n",
       "      <th>9</th>\n",
       "      <td>Your experience with physical activity</td>\n",
       "      <td>8</td>\n",
       "      <td>28.0</td>\n",
       "      <td>14.0</td>\n",
       "      <td>25.000000</td>\n",
       "      <td>4.598136</td>\n",
       "    </tr>\n",
       "    <tr>\n",
       "      <th>2</th>\n",
       "      <td>Chronic Pain Grade Scale</td>\n",
       "      <td>36</td>\n",
       "      <td>62.0</td>\n",
       "      <td>0.0</td>\n",
       "      <td>23.972222</td>\n",
       "      <td>20.976839</td>\n",
       "    </tr>\n",
       "    <tr>\n",
       "      <th>10</th>\n",
       "      <td>Your experience with relationships</td>\n",
       "      <td>6</td>\n",
       "      <td>25.0</td>\n",
       "      <td>20.0</td>\n",
       "      <td>22.666667</td>\n",
       "      <td>1.966384</td>\n",
       "    </tr>\n",
       "    <tr>\n",
       "      <th>5</th>\n",
       "      <td>Inflammatory Bowel Disease-Fatigue (IBD-F) Sel...</td>\n",
       "      <td>36</td>\n",
       "      <td>17.0</td>\n",
       "      <td>0.0</td>\n",
       "      <td>12.166667</td>\n",
       "      <td>4.638349</td>\n",
       "    </tr>\n",
       "    <tr>\n",
       "      <th>0</th>\n",
       "      <td>Acceptance &amp; Committment Therapy Survey (ACT)</td>\n",
       "      <td>43</td>\n",
       "      <td>17.0</td>\n",
       "      <td>6.0</td>\n",
       "      <td>11.813953</td>\n",
       "      <td>2.322312</td>\n",
       "    </tr>\n",
       "    <tr>\n",
       "      <th>8</th>\n",
       "      <td>Symptoms Questionnaire (IBD Control)</td>\n",
       "      <td>7944</td>\n",
       "      <td>17.0</td>\n",
       "      <td>0.0</td>\n",
       "      <td>9.102090</td>\n",
       "      <td>4.986349</td>\n",
       "    </tr>\n",
       "    <tr>\n",
       "      <th>7</th>\n",
       "      <td>SSQ</td>\n",
       "      <td>5847</td>\n",
       "      <td>12.0</td>\n",
       "      <td>0.0</td>\n",
       "      <td>7.848298</td>\n",
       "      <td>3.382059</td>\n",
       "    </tr>\n",
       "    <tr>\n",
       "      <th>3</th>\n",
       "      <td>GAD-7</td>\n",
       "      <td>36</td>\n",
       "      <td>18.0</td>\n",
       "      <td>0.0</td>\n",
       "      <td>7.388889</td>\n",
       "      <td>5.718530</td>\n",
       "    </tr>\n",
       "    <tr>\n",
       "      <th>6</th>\n",
       "      <td>SCCAI</td>\n",
       "      <td>3379</td>\n",
       "      <td>18.0</td>\n",
       "      <td>0.0</td>\n",
       "      <td>5.215152</td>\n",
       "      <td>3.838379</td>\n",
       "    </tr>\n",
       "    <tr>\n",
       "      <th>1</th>\n",
       "      <td>COVID-19</td>\n",
       "      <td>12</td>\n",
       "      <td>7.0</td>\n",
       "      <td>3.0</td>\n",
       "      <td>4.916667</td>\n",
       "      <td>1.729862</td>\n",
       "    </tr>\n",
       "    <tr>\n",
       "      <th>4</th>\n",
       "      <td>HBI</td>\n",
       "      <td>5250</td>\n",
       "      <td>97.0</td>\n",
       "      <td>0.0</td>\n",
       "      <td>4.145143</td>\n",
       "      <td>4.416698</td>\n",
       "    </tr>\n",
       "  </tbody>\n",
       "</table>\n",
       "</div>"
      ],
      "text/plain": [
       "                                            prom_name  count   max   min  \\\n",
       "9              Your experience with physical activity      8  28.0  14.0   \n",
       "2                            Chronic Pain Grade Scale     36  62.0   0.0   \n",
       "10                 Your experience with relationships      6  25.0  20.0   \n",
       "5   Inflammatory Bowel Disease-Fatigue (IBD-F) Sel...     36  17.0   0.0   \n",
       "0       Acceptance & Committment Therapy Survey (ACT)     43  17.0   6.0   \n",
       "8                Symptoms Questionnaire (IBD Control)   7944  17.0   0.0   \n",
       "7                                                 SSQ   5847  12.0   0.0   \n",
       "3                                               GAD-7     36  18.0   0.0   \n",
       "6                                               SCCAI   3379  18.0   0.0   \n",
       "1                                            COVID-19     12   7.0   3.0   \n",
       "4                                                 HBI   5250  97.0   0.0   \n",
       "\n",
       "         mean        std  \n",
       "9   25.000000   4.598136  \n",
       "2   23.972222  20.976839  \n",
       "10  22.666667   1.966384  \n",
       "5   12.166667   4.638349  \n",
       "0   11.813953   2.322312  \n",
       "8    9.102090   4.986349  \n",
       "7    7.848298   3.382059  \n",
       "3    7.388889   5.718530  \n",
       "6    5.215152   3.838379  \n",
       "1    4.916667   1.729862  \n",
       "4    4.145143   4.416698  "
      ]
     },
     "execution_count": 26,
     "metadata": {},
     "output_type": "execute_result"
    }
   ],
   "source": [
    "average_prom_score_df = new_prom_df.copy()\n",
    "average_prom_score_df = average_prom_score_df.set_index(\"prom_name\")\n",
    "average_prom_score_df = average_prom_score_df.drop(\n",
    "    labels=['Patient Survey - Pre-deployment','Medication Categories','SLEEP DIARY'], axis = 0, inplace= False)\n",
    "\n",
    "average_prom_score_df.reset_index(inplace=True)\n",
    "average_prom_score = average_prom_score_df.groupby(average_prom_score_df[\"prom_name\"])[\"prom_score\"].agg([\"count\", \"max\", \"min\",\"mean\", \"std\"]).reset_index().sort_values(by=[\"mean\"], ascending =False)\n",
    "average_prom_score"
   ]
  },
  {
   "cell_type": "code",
   "execution_count": 27,
   "id": "1980e777-afec-4db9-b3ad-3f965af38195",
   "metadata": {
    "tags": []
   },
   "outputs": [
    {
     "data": {
      "text/plain": [
       "Text(0.5, 0, 'PROM Score')"
      ]
     },
     "execution_count": 27,
     "metadata": {},
     "output_type": "execute_result"
    },
    {
     "data": {
      "image/png": "[encoded data removed]",
      "text/plain": [
       "<Figure size 1152x360 with 1 Axes>"
      ]
     },
     "metadata": {
      "needs_background": "light"
     },
     "output_type": "display_data"
    }
   ],
   "source": [
    "# Visualisation \n",
    "\n",
    "fig = plt.figure(figsize = (16,5))\n",
    "\n",
    "ax = sns.barplot(y=\"prom_name\", x ='mean', data=average_prom_score, palette =\"BuPu_r\" , order=average_prom_score[\"prom_name\"])\n",
    "\n",
    "plt.ylabel(\"\")\n",
    "plt.xlabel(\"PROM Score\")\n",
    "# plt.savefig(\"average prom score.png\",bbox_inches='tight',dpi=100 )"
   ]
  },
  {
   "cell_type": "markdown",
   "id": "113ecb40-883b-4d64-bb45-bfc1fa3b7c99",
   "metadata": {},
   "source": [
    "### 4. How many condition each user has?"
   ]
  },
  {
   "cell_type": "code",
   "execution_count": 28,
   "id": "56046cbc-6ec2-4fdb-9ea6-7144589550b3",
   "metadata": {},
   "outputs": [
    {
     "data": {
      "text/plain": [
       "4656     19\n",
       "430       5\n",
       "2182      5\n",
       "360       4\n",
       "7737      3\n",
       "         ..\n",
       "1536      1\n",
       "1821      1\n",
       "1895      1\n",
       "2022      1\n",
       "30799     1\n",
       "Name: user_id, Length: 2530, dtype: int64"
      ]
     },
     "execution_count": 28,
     "metadata": {},
     "output_type": "execute_result"
    }
   ],
   "source": [
    "medicalcond_df = medical_df.copy()\n",
    "medicalcond_df[\"user_id\"].value_counts()"
   ]
  },
  {
   "cell_type": "code",
   "execution_count": 29,
   "id": "297443c5-2fc5-42a5-941f-8c9a35affa1b",
   "metadata": {
    "tags": []
   },
   "outputs": [],
   "source": [
    "medicalcond_df = medical_df.copy()\n",
    "medicalcond_df.head()\n",
    "\n",
    "## Count the total condition of each patient\n",
    "total_condition_count = medicalcond_df.groupby(medicalcond_df[\"user_id\"])[\"condition\"].agg([pd.Series.nunique])\n",
    "total_condition_count\n",
    "\n",
    "# ## Merge the two dataframe\n",
    "medicalcond_df = pd.merge(medicalcond_df, total_condition_count, how=\"inner\", on=\"user_id\")\n",
    "medicalcond_df.rename(columns={\"nunique\":\"Total condition\"}, inplace=True)\n",
    "\n",
    "\n",
    "condition_count = medicalcond_df.groupby(medicalcond_df[\"Total condition\"])[\"user_id\"].agg([pd.Series.nunique])\n",
    "condition_count.rename(columns={\"nunique\":\"count\"}, inplace=True)\n",
    "condition_count.reset_index(inplace = True)\n"
   ]
  },
  {
   "cell_type": "code",
   "execution_count": 30,
   "id": "ac080e93-2a2f-4248-83a2-077c8061cf59",
   "metadata": {
    "tags": []
   },
   "outputs": [
    {
     "data": {
      "text/plain": [
       "Text(0, 0.5, 'Total number of condition(s)')"
      ]
     },
     "execution_count": 30,
     "metadata": {},
     "output_type": "execute_result"
    },
    {
     "data": {
      "image/png": "[encoded data removed]",
      "text/plain": [
       "<Figure size 864x864 with 1 Axes>"
      ]
     },
     "metadata": {
      "needs_background": "light"
     },
     "output_type": "display_data"
    }
   ],
   "source": [
    "## Visualisation \n",
    "\n",
    "ys = [1988, 301, 860, 77, 13, 1]\n",
    "\n",
    "fig = plt.figure(figsize = (12,12))\n",
    "\n",
    "ax = sns.barplot(x=\"Total condition\", y ='count', palette=\"BuPu_r\",  data=condition_count)\n",
    "ax.set_yscale(\"log\")\n",
    "plt.xticks(fontsize =10)\n",
    "plt.xlabel(\"Number of users\")\n",
    "plt.ylabel(\"Total number of condition(s)\")\n",
    "\n",
    "# plt.savefig(\"each user condition.png\", bbox_inches =\"tight\", dpi = 100)"
   ]
  },
  {
   "cell_type": "markdown",
   "id": "673eee20-a60f-449e-999a-d41538e6871d",
   "metadata": {},
   "source": [
    "### 5. Total diagnosis in each hospital, broken down by condition"
   ]
  },
  {
   "cell_type": "code",
   "execution_count": 31,
   "id": "4c0972bd-da6d-41e2-be02-43af80649cdf",
   "metadata": {
    "tags": []
   },
   "outputs": [
    {
     "data": {
      "text/plain": [
       "hospital_name\n",
       "Hospital 1    1010\n",
       "Hospital 2     464\n",
       "Hospital 3     350\n",
       "Hospital 4     400\n",
       "Hospital 5     358\n",
       "Name: user_id, dtype: int64"
      ]
     },
     "execution_count": 31,
     "metadata": {},
     "output_type": "execute_result"
    }
   ],
   "source": [
    "hospital_df = medical_df.copy()\n",
    "# a patient can visit multiple hospital. Hence total > 2530\n",
    "hospital_number = hospital_df.groupby([\"hospital_name\"])[\"user_id\"].agg(\"count\")\n",
    "hospital_number"
   ]
  },
  {
   "cell_type": "code",
   "execution_count": 32,
   "id": "e1c9d323-f49e-47e8-a10f-73c2256cfd40",
   "metadata": {},
   "outputs": [
    {
     "data": {
      "text/html": [
       "<div>\n",
       "<style scoped>\n",
       "    .dataframe tbody tr th:only-of-type {\n",
       "        vertical-align: middle;\n",
       "    }\n",
       "\n",
       "    .dataframe tbody tr th {\n",
       "        vertical-align: top;\n",
       "    }\n",
       "\n",
       "    .dataframe thead th {\n",
       "        text-align: right;\n",
       "    }\n",
       "</style>\n",
       "<table border=\"1\" class=\"dataframe\">\n",
       "  <thead>\n",
       "    <tr style=\"text-align: right;\">\n",
       "      <th></th>\n",
       "      <th>hospital_name</th>\n",
       "      <th>condition</th>\n",
       "      <th>count</th>\n",
       "    </tr>\n",
       "  </thead>\n",
       "  <tbody>\n",
       "    <tr>\n",
       "      <th>0</th>\n",
       "      <td>Hospital 1</td>\n",
       "      <td>Celiac</td>\n",
       "      <td>2</td>\n",
       "    </tr>\n",
       "    <tr>\n",
       "      <th>1</th>\n",
       "      <td>Hospital 1</td>\n",
       "      <td>Crohn’s disease</td>\n",
       "      <td>532</td>\n",
       "    </tr>\n",
       "    <tr>\n",
       "      <th>2</th>\n",
       "      <td>Hospital 1</td>\n",
       "      <td>IBDU</td>\n",
       "      <td>18</td>\n",
       "    </tr>\n",
       "    <tr>\n",
       "      <th>3</th>\n",
       "      <td>Hospital 1</td>\n",
       "      <td>Microscopic Colitis</td>\n",
       "      <td>6</td>\n",
       "    </tr>\n",
       "    <tr>\n",
       "      <th>4</th>\n",
       "      <td>Hospital 1</td>\n",
       "      <td>Pouchitis</td>\n",
       "      <td>9</td>\n",
       "    </tr>\n",
       "    <tr>\n",
       "      <th>5</th>\n",
       "      <td>Hospital 1</td>\n",
       "      <td>Ulcerative colitis</td>\n",
       "      <td>443</td>\n",
       "    </tr>\n",
       "    <tr>\n",
       "      <th>6</th>\n",
       "      <td>Hospital 2</td>\n",
       "      <td>Celiac</td>\n",
       "      <td>3</td>\n",
       "    </tr>\n",
       "    <tr>\n",
       "      <th>7</th>\n",
       "      <td>Hospital 2</td>\n",
       "      <td>Crohn’s disease</td>\n",
       "      <td>228</td>\n",
       "    </tr>\n",
       "    <tr>\n",
       "      <th>8</th>\n",
       "      <td>Hospital 2</td>\n",
       "      <td>IBDU</td>\n",
       "      <td>15</td>\n",
       "    </tr>\n",
       "    <tr>\n",
       "      <th>9</th>\n",
       "      <td>Hospital 2</td>\n",
       "      <td>Microscopic Colitis</td>\n",
       "      <td>2</td>\n",
       "    </tr>\n",
       "    <tr>\n",
       "      <th>10</th>\n",
       "      <td>Hospital 2</td>\n",
       "      <td>Pouchitis</td>\n",
       "      <td>2</td>\n",
       "    </tr>\n",
       "    <tr>\n",
       "      <th>11</th>\n",
       "      <td>Hospital 2</td>\n",
       "      <td>Ulcerative colitis</td>\n",
       "      <td>214</td>\n",
       "    </tr>\n",
       "    <tr>\n",
       "      <th>12</th>\n",
       "      <td>Hospital 3</td>\n",
       "      <td>Celiac</td>\n",
       "      <td>1</td>\n",
       "    </tr>\n",
       "    <tr>\n",
       "      <th>13</th>\n",
       "      <td>Hospital 3</td>\n",
       "      <td>Crohn’s disease</td>\n",
       "      <td>164</td>\n",
       "    </tr>\n",
       "    <tr>\n",
       "      <th>14</th>\n",
       "      <td>Hospital 3</td>\n",
       "      <td>IBDU</td>\n",
       "      <td>18</td>\n",
       "    </tr>\n",
       "    <tr>\n",
       "      <th>15</th>\n",
       "      <td>Hospital 3</td>\n",
       "      <td>Microscopic Colitis</td>\n",
       "      <td>4</td>\n",
       "    </tr>\n",
       "    <tr>\n",
       "      <th>16</th>\n",
       "      <td>Hospital 3</td>\n",
       "      <td>Pouchitis</td>\n",
       "      <td>3</td>\n",
       "    </tr>\n",
       "    <tr>\n",
       "      <th>17</th>\n",
       "      <td>Hospital 3</td>\n",
       "      <td>Ulcerative colitis</td>\n",
       "      <td>160</td>\n",
       "    </tr>\n",
       "    <tr>\n",
       "      <th>18</th>\n",
       "      <td>Hospital 4</td>\n",
       "      <td>Crohn’s disease</td>\n",
       "      <td>215</td>\n",
       "    </tr>\n",
       "    <tr>\n",
       "      <th>19</th>\n",
       "      <td>Hospital 4</td>\n",
       "      <td>IBDU</td>\n",
       "      <td>16</td>\n",
       "    </tr>\n",
       "    <tr>\n",
       "      <th>20</th>\n",
       "      <td>Hospital 4</td>\n",
       "      <td>Microscopic Colitis</td>\n",
       "      <td>2</td>\n",
       "    </tr>\n",
       "    <tr>\n",
       "      <th>21</th>\n",
       "      <td>Hospital 4</td>\n",
       "      <td>Pouchitis</td>\n",
       "      <td>1</td>\n",
       "    </tr>\n",
       "    <tr>\n",
       "      <th>22</th>\n",
       "      <td>Hospital 4</td>\n",
       "      <td>Ulcerative colitis</td>\n",
       "      <td>166</td>\n",
       "    </tr>\n",
       "    <tr>\n",
       "      <th>23</th>\n",
       "      <td>Hospital 5</td>\n",
       "      <td>Crohn’s disease</td>\n",
       "      <td>200</td>\n",
       "    </tr>\n",
       "    <tr>\n",
       "      <th>24</th>\n",
       "      <td>Hospital 5</td>\n",
       "      <td>IBDU</td>\n",
       "      <td>4</td>\n",
       "    </tr>\n",
       "    <tr>\n",
       "      <th>25</th>\n",
       "      <td>Hospital 5</td>\n",
       "      <td>Microscopic Colitis</td>\n",
       "      <td>1</td>\n",
       "    </tr>\n",
       "    <tr>\n",
       "      <th>26</th>\n",
       "      <td>Hospital 5</td>\n",
       "      <td>Pouchitis</td>\n",
       "      <td>2</td>\n",
       "    </tr>\n",
       "    <tr>\n",
       "      <th>27</th>\n",
       "      <td>Hospital 5</td>\n",
       "      <td>Ulcerative colitis</td>\n",
       "      <td>151</td>\n",
       "    </tr>\n",
       "  </tbody>\n",
       "</table>\n",
       "</div>"
      ],
      "text/plain": [
       "   hospital_name            condition  count\n",
       "0     Hospital 1               Celiac      2\n",
       "1     Hospital 1      Crohn’s disease    532\n",
       "2     Hospital 1                 IBDU     18\n",
       "3     Hospital 1  Microscopic Colitis      6\n",
       "4     Hospital 1            Pouchitis      9\n",
       "5     Hospital 1   Ulcerative colitis    443\n",
       "6     Hospital 2               Celiac      3\n",
       "7     Hospital 2      Crohn’s disease    228\n",
       "8     Hospital 2                 IBDU     15\n",
       "9     Hospital 2  Microscopic Colitis      2\n",
       "10    Hospital 2            Pouchitis      2\n",
       "11    Hospital 2   Ulcerative colitis    214\n",
       "12    Hospital 3               Celiac      1\n",
       "13    Hospital 3      Crohn’s disease    164\n",
       "14    Hospital 3                 IBDU     18\n",
       "15    Hospital 3  Microscopic Colitis      4\n",
       "16    Hospital 3            Pouchitis      3\n",
       "17    Hospital 3   Ulcerative colitis    160\n",
       "18    Hospital 4      Crohn’s disease    215\n",
       "19    Hospital 4                 IBDU     16\n",
       "20    Hospital 4  Microscopic Colitis      2\n",
       "21    Hospital 4            Pouchitis      1\n",
       "22    Hospital 4   Ulcerative colitis    166\n",
       "23    Hospital 5      Crohn’s disease    200\n",
       "24    Hospital 5                 IBDU      4\n",
       "25    Hospital 5  Microscopic Colitis      1\n",
       "26    Hospital 5            Pouchitis      2\n",
       "27    Hospital 5   Ulcerative colitis    151"
      ]
     },
     "execution_count": 32,
     "metadata": {},
     "output_type": "execute_result"
    }
   ],
   "source": [
    "hospital_condition = hospital_df.groupby([\"hospital_name\",\"condition\"])[\"user_id\"].agg(\"count\")\n",
    "hospital_condition= hospital_condition.reset_index()\n",
    "hospital_condition.rename(columns={\"user_id\":\"count\"}, inplace=True)\n",
    "hospital_condition\n"
   ]
  },
  {
   "cell_type": "code",
   "execution_count": 33,
   "id": "46dbf080-901c-488e-a0a0-e13c122901e0",
   "metadata": {},
   "outputs": [],
   "source": [
    "#Extract the data requried to build visualisation\n",
    "\n",
    "# Celiac\n",
    "hospital_celiac = hospital_condition['count'].where(hospital_condition['condition'] == \"Celiac\").dropna().tolist()\n",
    "hospital_celiac.extend([0,0]) # Hospital 4 and Hospital 5 do not diagnose Celiac\n",
    "hospital_celiac= np.array(hospital_celiac)\n",
    "# Crohn disease\n",
    "hospital_Crohn = np.array(hospital_condition['count'].where(hospital_condition['condition'] == \"Crohn’s disease\").dropna())\n",
    "\n",
    "# IBDU\n",
    "hospital_IBDU = np.array(hospital_condition['count'].where(hospital_condition['condition'] == \"IBDU\").dropna())\n",
    "\n",
    "# Microscopic Colitis\n",
    "hospital_Micro = np.array(hospital_condition['count'].where(hospital_condition['condition'] == \"Microscopic Colitis\").dropna())\n",
    "\n",
    "# Pouchitis\n",
    "hospital_Pou = np.array(hospital_condition['count'].where(hospital_condition['condition'] == \"Pouchitis\").dropna())\n",
    "hospital_Pou\n",
    "\n",
    "# Ulcerative colitis\n",
    "hospital_Ulc = np.array(hospital_condition['count'].where(hospital_condition['condition'] == \"Ulcerative colitis\").dropna())\n",
    "hospital_Ulc\n",
    "x = [\"Hospital 1\",\"Hospital 2\",\"Hospital 3\",\"Hospital 4\",\"Hospital 5\"]"
   ]
  },
  {
   "cell_type": "code",
   "execution_count": 34,
   "id": "a524e8af-d936-45b4-8a89-b85344abce13",
   "metadata": {},
   "outputs": [
    {
     "data": {
      "text/plain": [
       "<matplotlib.legend.Legend at 0x1dcf81a59d0>"
      ]
     },
     "execution_count": 34,
     "metadata": {},
     "output_type": "execute_result"
    },
    {
     "data": {
      "image/png": "[encoded data removed]",
      "text/plain": [
       "<Figure size 864x864 with 1 Axes>"
      ]
     },
     "metadata": {
      "needs_background": "light"
     },
     "output_type": "display_data"
    }
   ],
   "source": [
    "# Visualisation\n",
    "\n",
    "# fig= plt.figure(figsize = (12,12))\n",
    "fig, ax =plt.subplots(figsize = (12,12))\n",
    "\n",
    "ax.bar(x, hospital_Crohn, label='Crohn’s disease', color=\"#880085\")\n",
    "\n",
    "ax.bar(x, hospital_Ulc, label='Ulcerative colitis', color = \"#e0b0ff\", bottom=hospital_Crohn)\n",
    "ax.bar(x, hospital_IBDU, label='IBDU', color =\"#fdbfff\",bottom=hospital_Ulc+ hospital_Crohn)\n",
    "ax.bar(x, hospital_Micro, label='Microscopic Colitis', color= \"#b6bdff\",bottom=hospital_IBDU+hospital_Ulc+hospital_Crohn)\n",
    "ax.bar(x, hospital_Pou, label='Pouchitis', color = \"#3879ff\",bottom=hospital_Micro+hospital_IBDU+hospital_Ulc+hospital_Crohn)\n",
    "ax.bar(x, hospital_celiac, label='Celiac', color=\"#002992\", bottom= hospital_Pou+ hospital_Micro+ hospital_IBDU+ hospital_Ulc+ hospital_Crohn)\n",
    "\n",
    "\n",
    "plt.ylabel(\"Number of conditions\")\n",
    "plt.xlabel(\"\")\n",
    "plt.legend([\"Crohn’s disease\", \"Ulcerative colitis\", \"IBDU\", \"Microscopic Colitis\", \"Pouchitis\", \"Celiac\"])\n",
    "\n",
    "# plt.savefig(\"hospital.png\", bbox_inches =\"tight\", dpi =100)"
   ]
  },
  {
   "cell_type": "markdown",
   "id": "97ce5d6e-1e65-4b2e-9ba9-9dbbb8cfcda1",
   "metadata": {},
   "source": [
    "### 6. Patient's age group with condition "
   ]
  },
  {
   "cell_type": "code",
   "execution_count": 35,
   "id": "20442a79-4a51-48fc-9ecd-e6c23114e983",
   "metadata": {
    "tags": []
   },
   "outputs": [
    {
     "data": {
      "text/html": [
       "<div>\n",
       "<style scoped>\n",
       "    .dataframe tbody tr th:only-of-type {\n",
       "        vertical-align: middle;\n",
       "    }\n",
       "\n",
       "    .dataframe tbody tr th {\n",
       "        vertical-align: top;\n",
       "    }\n",
       "\n",
       "    .dataframe thead th {\n",
       "        text-align: right;\n",
       "    }\n",
       "</style>\n",
       "<table border=\"1\" class=\"dataframe\">\n",
       "  <thead>\n",
       "    <tr style=\"text-align: right;\">\n",
       "      <th></th>\n",
       "      <th>Age Group</th>\n",
       "      <th>condition</th>\n",
       "      <th>count</th>\n",
       "    </tr>\n",
       "  </thead>\n",
       "  <tbody>\n",
       "    <tr>\n",
       "      <th>0</th>\n",
       "      <td>0-25</td>\n",
       "      <td>Celiac</td>\n",
       "      <td>0</td>\n",
       "    </tr>\n",
       "    <tr>\n",
       "      <th>1</th>\n",
       "      <td>0-25</td>\n",
       "      <td>Crohn’s disease</td>\n",
       "      <td>312</td>\n",
       "    </tr>\n",
       "    <tr>\n",
       "      <th>2</th>\n",
       "      <td>0-25</td>\n",
       "      <td>IBDU</td>\n",
       "      <td>20</td>\n",
       "    </tr>\n",
       "    <tr>\n",
       "      <th>3</th>\n",
       "      <td>0-25</td>\n",
       "      <td>Microscopic Colitis</td>\n",
       "      <td>2</td>\n",
       "    </tr>\n",
       "    <tr>\n",
       "      <th>4</th>\n",
       "      <td>0-25</td>\n",
       "      <td>Pouchitis</td>\n",
       "      <td>1</td>\n",
       "    </tr>\n",
       "    <tr>\n",
       "      <th>5</th>\n",
       "      <td>0-25</td>\n",
       "      <td>Ulcerative colitis</td>\n",
       "      <td>208</td>\n",
       "    </tr>\n",
       "    <tr>\n",
       "      <th>6</th>\n",
       "      <td>26-50</td>\n",
       "      <td>Celiac</td>\n",
       "      <td>4</td>\n",
       "    </tr>\n",
       "    <tr>\n",
       "      <th>7</th>\n",
       "      <td>26-50</td>\n",
       "      <td>Crohn’s disease</td>\n",
       "      <td>726</td>\n",
       "    </tr>\n",
       "    <tr>\n",
       "      <th>8</th>\n",
       "      <td>26-50</td>\n",
       "      <td>IBDU</td>\n",
       "      <td>32</td>\n",
       "    </tr>\n",
       "    <tr>\n",
       "      <th>9</th>\n",
       "      <td>26-50</td>\n",
       "      <td>Microscopic Colitis</td>\n",
       "      <td>7</td>\n",
       "    </tr>\n",
       "    <tr>\n",
       "      <th>10</th>\n",
       "      <td>26-50</td>\n",
       "      <td>Pouchitis</td>\n",
       "      <td>13</td>\n",
       "    </tr>\n",
       "    <tr>\n",
       "      <th>11</th>\n",
       "      <td>26-50</td>\n",
       "      <td>Ulcerative colitis</td>\n",
       "      <td>679</td>\n",
       "    </tr>\n",
       "    <tr>\n",
       "      <th>12</th>\n",
       "      <td>51-70</td>\n",
       "      <td>Celiac</td>\n",
       "      <td>2</td>\n",
       "    </tr>\n",
       "    <tr>\n",
       "      <th>13</th>\n",
       "      <td>51-70</td>\n",
       "      <td>Crohn’s disease</td>\n",
       "      <td>139</td>\n",
       "    </tr>\n",
       "    <tr>\n",
       "      <th>14</th>\n",
       "      <td>51-70</td>\n",
       "      <td>IBDU</td>\n",
       "      <td>11</td>\n",
       "    </tr>\n",
       "    <tr>\n",
       "      <th>15</th>\n",
       "      <td>51-70</td>\n",
       "      <td>Microscopic Colitis</td>\n",
       "      <td>3</td>\n",
       "    </tr>\n",
       "    <tr>\n",
       "      <th>16</th>\n",
       "      <td>51-70</td>\n",
       "      <td>Pouchitis</td>\n",
       "      <td>2</td>\n",
       "    </tr>\n",
       "    <tr>\n",
       "      <th>17</th>\n",
       "      <td>51-70</td>\n",
       "      <td>Ulcerative colitis</td>\n",
       "      <td>116</td>\n",
       "    </tr>\n",
       "    <tr>\n",
       "      <th>18</th>\n",
       "      <td>70+</td>\n",
       "      <td>Celiac</td>\n",
       "      <td>0</td>\n",
       "    </tr>\n",
       "    <tr>\n",
       "      <th>19</th>\n",
       "      <td>70+</td>\n",
       "      <td>Crohn’s disease</td>\n",
       "      <td>7</td>\n",
       "    </tr>\n",
       "    <tr>\n",
       "      <th>20</th>\n",
       "      <td>70+</td>\n",
       "      <td>IBDU</td>\n",
       "      <td>0</td>\n",
       "    </tr>\n",
       "    <tr>\n",
       "      <th>21</th>\n",
       "      <td>70+</td>\n",
       "      <td>Microscopic Colitis</td>\n",
       "      <td>1</td>\n",
       "    </tr>\n",
       "    <tr>\n",
       "      <th>22</th>\n",
       "      <td>70+</td>\n",
       "      <td>Pouchitis</td>\n",
       "      <td>0</td>\n",
       "    </tr>\n",
       "    <tr>\n",
       "      <th>23</th>\n",
       "      <td>70+</td>\n",
       "      <td>Ulcerative colitis</td>\n",
       "      <td>7</td>\n",
       "    </tr>\n",
       "  </tbody>\n",
       "</table>\n",
       "</div>"
      ],
      "text/plain": [
       "   Age Group            condition  count\n",
       "0       0-25               Celiac      0\n",
       "1       0-25      Crohn’s disease    312\n",
       "2       0-25                 IBDU     20\n",
       "3       0-25  Microscopic Colitis      2\n",
       "4       0-25            Pouchitis      1\n",
       "5       0-25   Ulcerative colitis    208\n",
       "6      26-50               Celiac      4\n",
       "7      26-50      Crohn’s disease    726\n",
       "8      26-50                 IBDU     32\n",
       "9      26-50  Microscopic Colitis      7\n",
       "10     26-50            Pouchitis     13\n",
       "11     26-50   Ulcerative colitis    679\n",
       "12     51-70               Celiac      2\n",
       "13     51-70      Crohn’s disease    139\n",
       "14     51-70                 IBDU     11\n",
       "15     51-70  Microscopic Colitis      3\n",
       "16     51-70            Pouchitis      2\n",
       "17     51-70   Ulcerative colitis    116\n",
       "18       70+               Celiac      0\n",
       "19       70+      Crohn’s disease      7\n",
       "20       70+                 IBDU      0\n",
       "21       70+  Microscopic Colitis      1\n",
       "22       70+            Pouchitis      0\n",
       "23       70+   Ulcerative colitis      7"
      ]
     },
     "execution_count": 35,
     "metadata": {},
     "output_type": "execute_result"
    }
   ],
   "source": [
    "age_condition_df = pd.merge(hospital_df, user_new_df, how=\"inner\", on=\"user_id\")\n",
    "age_condition_number = age_condition_df.groupby([\"Age Group\",\"condition\"])[\"user_id\"].agg([\"count\"])\n",
    "age_condition_number.reset_index(inplace=True)\n",
    "age_condition_number"
   ]
  },
  {
   "cell_type": "code",
   "execution_count": 36,
   "id": "7240d5fb-7c76-490d-bbb6-c07e62d2a968",
   "metadata": {
    "tags": []
   },
   "outputs": [],
   "source": [
    "#Extract the data requried to build visualisation\n",
    "\n",
    "# Celiac\n",
    "age_celiac = age_condition_number['count'].where(age_condition_number['condition'] == \"Celiac\").dropna().tolist()\n",
    "age_celiac=np.array(age_celiac)\n",
    "\n",
    "# Crohn disease\n",
    "age_Crohn = np.array(age_condition_number['count'].where(age_condition_number['condition'] == \"Crohn’s disease\").dropna())\n",
    "\n",
    "# IBDU\n",
    "age_IBDU = age_condition_number['count'].where(age_condition_number['condition'] == \"IBDU\").dropna().tolist()\n",
    "age_IBDU=np.array(age_IBDU)\n",
    "\n",
    "# Microscopic Colitis\n",
    "age_Micro = age_condition_number['count'].where(age_condition_number['condition'] == \"Microscopic Colitis\").dropna().tolist()\n",
    "age_Micro=np.array(age_Micro)\n",
    "\n",
    "# Pouchitis\n",
    "age_Pou = age_condition_number['count'].where(age_condition_number['condition'] == \"Pouchitis\").dropna().tolist()\n",
    "age_Pou=np.array(age_Pou)\n",
    "\n",
    "# Ulcerative colitis\n",
    "age_Ulc = age_condition_number['count'].where(age_condition_number['condition'] == \"Ulcerative colitis\").dropna().tolist()\n",
    "age_Ulc=np.array(age_Ulc)\n",
    "\n",
    "x = [\"0-25\",\"26-50\",\"51-70\",\"70+\"]\n"
   ]
  },
  {
   "cell_type": "code",
   "execution_count": 37,
   "id": "19004bcc-9bfb-46d3-8fb2-562d586d7f41",
   "metadata": {
    "tags": []
   },
   "outputs": [
    {
     "data": {
      "text/plain": [
       "<matplotlib.legend.Legend at 0x1dcf8667a60>"
      ]
     },
     "execution_count": 37,
     "metadata": {},
     "output_type": "execute_result"
    },
    {
     "data": {
      "image/png": "[encoded data removed]",
      "text/plain": [
       "<Figure size 864x864 with 1 Axes>"
      ]
     },
     "metadata": {
      "needs_background": "light"
     },
     "output_type": "display_data"
    }
   ],
   "source": [
    "# Visualisation\n",
    "\n",
    "# fig= plt.figure(figsize = (12,12))\n",
    "fig, ax =plt.subplots(figsize = (12,12))\n",
    "\n",
    "ax.bar(x, age_Crohn, color=\"#880085\", label='Crohn’s disease')\n",
    "ax.bar(x, age_Ulc,  color = \"#e0b0ff\", label='Ulcerative colitis', bottom=age_Crohn)\n",
    "ax.bar(x, age_IBDU, color =\"#fdbfff\",  label='IBDU', bottom=age_Ulc+ age_Crohn)\n",
    "ax.bar(x, age_Micro,  color= \"#b6bdff\",  label='Microscopic Colitis', bottom=age_IBDU+age_Ulc+age_Crohn)\n",
    "ax.bar(x, age_Pou,color = \"#3879ff\",  label='Pouchitis', bottom=age_Micro+age_IBDU+age_Ulc+age_Crohn)\n",
    "ax.bar(x, age_celiac, color=\"#002992\",label='Celiac', bottom= age_Pou+ age_Micro+ age_IBDU+ age_Ulc+ age_Crohn)\n",
    "\n",
    "\n",
    "plt.ylabel(\"Number of conditions\")\n",
    "plt.xlabel(\"\")\n",
    "plt.legend([\"Crohn’s disease\", \"Ulcerative colitis\", \"IBDU\", \"Microscopic Colitis\", \"Pouchitis\", \"Celiac\"])\n",
    "# plt.savefig(\"age group condition.png\", bbox_inches =\"tight\", dpi =100)"
   ]
  },
  {
   "cell_type": "markdown",
   "id": "e9cfb466-c523-456b-89a3-9771f064c377",
   "metadata": {},
   "source": [
    "### 7. The number of diagnosed condition each day, separated by hospital."
   ]
  },
  {
   "cell_type": "code",
   "execution_count": 38,
   "id": "1a4800e8-1f04-4fdc-beb2-bd2af89eb78f",
   "metadata": {},
   "outputs": [
    {
     "data": {
      "text/html": [
       "<div>\n",
       "<style scoped>\n",
       "    .dataframe tbody tr th:only-of-type {\n",
       "        vertical-align: middle;\n",
       "    }\n",
       "\n",
       "    .dataframe tbody tr th {\n",
       "        vertical-align: top;\n",
       "    }\n",
       "\n",
       "    .dataframe thead th {\n",
       "        text-align: right;\n",
       "    }\n",
       "</style>\n",
       "<table border=\"1\" class=\"dataframe\">\n",
       "  <thead>\n",
       "    <tr style=\"text-align: right;\">\n",
       "      <th></th>\n",
       "      <th>Year-Month</th>\n",
       "      <th>count</th>\n",
       "    </tr>\n",
       "  </thead>\n",
       "  <tbody>\n",
       "    <tr>\n",
       "      <th>0</th>\n",
       "      <td>1955-07</td>\n",
       "      <td>1</td>\n",
       "    </tr>\n",
       "    <tr>\n",
       "      <th>1</th>\n",
       "      <td>1955-08</td>\n",
       "      <td>0</td>\n",
       "    </tr>\n",
       "    <tr>\n",
       "      <th>2</th>\n",
       "      <td>1955-09</td>\n",
       "      <td>0</td>\n",
       "    </tr>\n",
       "    <tr>\n",
       "      <th>3</th>\n",
       "      <td>1955-10</td>\n",
       "      <td>0</td>\n",
       "    </tr>\n",
       "    <tr>\n",
       "      <th>4</th>\n",
       "      <td>1955-11</td>\n",
       "      <td>0</td>\n",
       "    </tr>\n",
       "    <tr>\n",
       "      <th>...</th>\n",
       "      <td>...</td>\n",
       "      <td>...</td>\n",
       "    </tr>\n",
       "    <tr>\n",
       "      <th>797</th>\n",
       "      <td>2021-12</td>\n",
       "      <td>6</td>\n",
       "    </tr>\n",
       "    <tr>\n",
       "      <th>798</th>\n",
       "      <td>2022-01</td>\n",
       "      <td>6</td>\n",
       "    </tr>\n",
       "    <tr>\n",
       "      <th>799</th>\n",
       "      <td>2022-02</td>\n",
       "      <td>5</td>\n",
       "    </tr>\n",
       "    <tr>\n",
       "      <th>800</th>\n",
       "      <td>2022-03</td>\n",
       "      <td>3</td>\n",
       "    </tr>\n",
       "    <tr>\n",
       "      <th>801</th>\n",
       "      <td>2022-04</td>\n",
       "      <td>1</td>\n",
       "    </tr>\n",
       "  </tbody>\n",
       "</table>\n",
       "<p>802 rows × 2 columns</p>\n",
       "</div>"
      ],
      "text/plain": [
       "    Year-Month  count\n",
       "0      1955-07      1\n",
       "1      1955-08      0\n",
       "2      1955-09      0\n",
       "3      1955-10      0\n",
       "4      1955-11      0\n",
       "..         ...    ...\n",
       "797    2021-12      6\n",
       "798    2022-01      6\n",
       "799    2022-02      5\n",
       "800    2022-03      3\n",
       "801    2022-04      1\n",
       "\n",
       "[802 rows x 2 columns]"
      ]
     },
     "execution_count": 38,
     "metadata": {},
     "output_type": "execute_result"
    }
   ],
   "source": [
    "hospital_df = medical_df.copy()\n",
    "\n",
    "# seemed to have an error diagnosed date :1812 -11\n",
    "# correcting to 2012-11\n",
    "hospital_df.loc[8, \"date_diagnosed\"] = \"2012-11-02\"\n",
    "\n",
    "\n",
    "idx = pd.date_range('1955-07', '2022-04',freq=\"D\")\n",
    "df = pd.DataFrame(data=idx, columns=['date_diagnosed'])\n",
    "\n",
    "\n",
    "hospital_df['date_diagnosed']= pd.to_datetime(hospital_df['date_diagnosed'])\n",
    "\n",
    "diagnosed_df = pd.merge(hospital_df,df, how=\"outer\", on=\"date_diagnosed\")\n",
    "\n",
    "diagnosed_df['date_diagnosed'] = pd.to_datetime(diagnosed_df['date_diagnosed'], errors='coerce')\n",
    "diagnosed_df['date_diagnosed']= pd.to_datetime(diagnosed_df['date_diagnosed'])\n",
    "diagnosed_df['Year-Month'] = diagnosed_df['date_diagnosed'].dt.to_period('M')\n",
    "diagnosed_count= diagnosed_df.groupby(diagnosed_df[\"Year-Month\"])[\"user_id\"].agg([\"count\"])\n",
    "diagnosed_count.reset_index(inplace=True)\n",
    "diagnosed_count"
   ]
  },
  {
   "cell_type": "code",
   "execution_count": 39,
   "id": "8422c2aa-9286-4a3d-92fc-9adcaf728dea",
   "metadata": {},
   "outputs": [
    {
     "data": {
      "text/plain": [
       "Text(0.5, 0, '')"
      ]
     },
     "execution_count": 39,
     "metadata": {},
     "output_type": "execute_result"
    },
    {
     "data": {
      "text/plain": [
       "<Figure size 864x864 with 0 Axes>"
      ]
     },
     "metadata": {},
     "output_type": "display_data"
    },
    {
     "data": {
      "image/png": "[encoded data removed]",
      "text/plain": [
       "<Figure size 1440x576 with 1 Axes>"
      ]
     },
     "metadata": {
      "needs_background": "light"
     },
     "output_type": "display_data"
    }
   ],
   "source": [
    "# Visualise\n",
    "\n",
    "plt.rc('xtick', labelsize=10)\n",
    "fig = plt.figure(figsize = (12,12))\n",
    "# diagnosed_count[\"Year-Month\"]\n",
    "\n",
    "colour = sns.color_palette(\"BuPu\", 1 )\n",
    "# ax = sns.lineplot( data=diagnosed_count,x=\"Year-Month\",y =\"count\", color='seagreen', alpha= 0.7)\n",
    "# ax = sns.lineplot(data=diagnosed_count, color='seagreen', alpha= 0.7)\n",
    "ax = diagnosed_count.plot.line(x='Year-Month', y='count', color=colour, figsize=(20,8))\n",
    "plt.minorticks_on()\n",
    "plt.xlim(0)\n",
    "plt.ylim(0)\n",
    "plt.ylabel(\"Number of conditions diagnosed\")\n",
    "ax.get_legend().remove()\n",
    "# ax.xaxis.set_major_locator(ticker.MultipleLocator(24))\n",
    "plt.xlabel(\"\")\n",
    "# plt.xlabel(\"Date\", fontsize=14)\n",
    "# plt.savefig(\"Date diagnosed.png\", bbox_inches =\"tight\", dpi =100)"
   ]
  },
  {
   "cell_type": "markdown",
   "id": "770534fc-a792-41c3-81ae-2ab99d184214",
   "metadata": {},
   "source": [
    "### Average prom score for age groups."
   ]
  },
  {
   "cell_type": "code",
   "execution_count": 40,
   "id": "62f8b2eb-e2e8-4561-a193-38d692031a8e",
   "metadata": {},
   "outputs": [],
   "source": [
    "age_prom_df = pd.merge(average_prom_score_df, user_new_df, how=\"inner\", on=\"user_id\")\n",
    "age_prom_df = age_prom_df.groupby([\"Age Group\"])[\"prom_score\"].agg([\"mean\"])\n",
    "age_prom_df.reset_index(inplace=True)\n"
   ]
  },
  {
   "cell_type": "code",
   "execution_count": 41,
   "id": "6fa9b487-ec9d-4404-91a6-0c1194bab302",
   "metadata": {
    "tags": []
   },
   "outputs": [
    {
     "data": {
      "text/plain": [
       "Text(0.5, 0, 'Age Group')"
      ]
     },
     "execution_count": 41,
     "metadata": {},
     "output_type": "execute_result"
    },
    {
     "data": {
      "image/png": "[encoded data removed]",
      "text/plain": [
       "<Figure size 720x720 with 1 Axes>"
      ]
     },
     "metadata": {
      "needs_background": "light"
     },
     "output_type": "display_data"
    }
   ],
   "source": [
    "# Visualisation \n",
    "\n",
    "fig = plt.figure(figsize = (10,10))\n",
    "\n",
    "ax = sns.barplot(x=\"Age Group\", y ='mean', data=age_prom_df, palette =\"BuPu_r\" , order=age_prom_df[\"Age Group\"])\n",
    "plt.ylabel(\"Average Prom Score\")\n",
    "plt.xlabel(\"Age Group\")\n",
    "# plt.savefig(\"average prom score age.png\",bbox_inches='tight',dpi=100 )"
   ]
  }
 ],
 "metadata": {
  "kernelspec": {
   "display_name": "Python 3 (ipykernel)",
   "language": "python",
   "name": "python3"
  },
  "language_info": {
   "codemirror_mode": {
    "name": "ipython",
    "version": 3
   },
   "file_extension": ".py",
   "mimetype": "text/x-python",
   "name": "python",
   "nbconvert_exporter": "python",
   "pygments_lexer": "ipython3",
   "version": "3.8.0"
  }
 },
 "nbformat": 4,
 "nbformat_minor": 5
}
